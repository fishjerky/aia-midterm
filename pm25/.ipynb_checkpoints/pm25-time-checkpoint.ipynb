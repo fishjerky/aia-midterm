{
 "cells": [
  {
   "cell_type": "markdown",
   "metadata": {},
   "source": [
    "# 把 date 跟 time 拆開看\n",
    "\n",
    "因為合併成timestamp差太大\n",
    "Score: 0.9949495160643369 MSE: 1.5336285447462925\n",
    "Kaggle: 0.13936\n",
    "\n",
    "另外time只看h 的字，讓各時段接近"
   ]
  },
  {
   "cell_type": "markdown",
   "metadata": {},
   "source": [
    "# Import Library"
   ]
  },
  {
   "cell_type": "code",
   "execution_count": 1,
   "metadata": {
    "collapsed": true
   },
   "outputs": [],
   "source": [
    "import numpy as np\n",
    "import pandas as pd\n",
    "import random\n",
    "import matplotlib.pyplot as plt\n",
    "from sklearn.preprocessing import Imputer\n",
    "%matplotlib inline\n",
    "from matplotlib.pylab import rcParams\n",
    "rcParams['figure.figsize'] = 8, 5\n",
    "from sklearn.metrics import mean_squared_error"
   ]
  },
  {
   "cell_type": "code",
   "execution_count": 2,
   "metadata": {},
   "outputs": [
    {
     "data": {
      "text/html": [
       "<div>\n",
       "<table border=\"1\" class=\"dataframe\">\n",
       "  <thead>\n",
       "    <tr style=\"text-align: right;\">\n",
       "      <th></th>\n",
       "      <th>device_id</th>\n",
       "      <th>Date</th>\n",
       "      <th>Time</th>\n",
       "      <th>PM2.5</th>\n",
       "      <th>PM10</th>\n",
       "      <th>PM1</th>\n",
       "      <th>Temperature</th>\n",
       "      <th>Humidity</th>\n",
       "      <th>lat</th>\n",
       "      <th>lon</th>\n",
       "    </tr>\n",
       "  </thead>\n",
       "  <tbody>\n",
       "    <tr>\n",
       "      <th>0</th>\n",
       "      <td>28C2DDDD415C</td>\n",
       "      <td>2017-01-01</td>\n",
       "      <td>08:03:09</td>\n",
       "      <td>21.0</td>\n",
       "      <td>0.0</td>\n",
       "      <td>0.0</td>\n",
       "      <td>24.12</td>\n",
       "      <td>83.0</td>\n",
       "      <td>23.741</td>\n",
       "      <td>120.755</td>\n",
       "    </tr>\n",
       "    <tr>\n",
       "      <th>1</th>\n",
       "      <td>28C2DDDD415C</td>\n",
       "      <td>2017-01-01</td>\n",
       "      <td>08:03:09</td>\n",
       "      <td>21.0</td>\n",
       "      <td>0.0</td>\n",
       "      <td>0.0</td>\n",
       "      <td>24.12</td>\n",
       "      <td>83.0</td>\n",
       "      <td>23.741</td>\n",
       "      <td>120.755</td>\n",
       "    </tr>\n",
       "    <tr>\n",
       "      <th>2</th>\n",
       "      <td>28C2DDDD415C</td>\n",
       "      <td>2017-01-01</td>\n",
       "      <td>08:03:09</td>\n",
       "      <td>21.0</td>\n",
       "      <td>0.0</td>\n",
       "      <td>0.0</td>\n",
       "      <td>24.12</td>\n",
       "      <td>83.0</td>\n",
       "      <td>23.741</td>\n",
       "      <td>120.755</td>\n",
       "    </tr>\n",
       "    <tr>\n",
       "      <th>3</th>\n",
       "      <td>28C2DDDD415C</td>\n",
       "      <td>2017-01-01</td>\n",
       "      <td>08:09:04</td>\n",
       "      <td>20.0</td>\n",
       "      <td>0.0</td>\n",
       "      <td>0.0</td>\n",
       "      <td>24.12</td>\n",
       "      <td>82.0</td>\n",
       "      <td>23.741</td>\n",
       "      <td>120.755</td>\n",
       "    </tr>\n",
       "    <tr>\n",
       "      <th>4</th>\n",
       "      <td>28C2DDDD415C</td>\n",
       "      <td>2017-01-01</td>\n",
       "      <td>08:09:04</td>\n",
       "      <td>20.0</td>\n",
       "      <td>0.0</td>\n",
       "      <td>0.0</td>\n",
       "      <td>24.12</td>\n",
       "      <td>82.0</td>\n",
       "      <td>23.741</td>\n",
       "      <td>120.755</td>\n",
       "    </tr>\n",
       "  </tbody>\n",
       "</table>\n",
       "</div>"
      ],
      "text/plain": [
       "      device_id        Date      Time  PM2.5  PM10  PM1  Temperature  \\\n",
       "0  28C2DDDD415C  2017-01-01  08:03:09   21.0   0.0  0.0        24.12   \n",
       "1  28C2DDDD415C  2017-01-01  08:03:09   21.0   0.0  0.0        24.12   \n",
       "2  28C2DDDD415C  2017-01-01  08:03:09   21.0   0.0  0.0        24.12   \n",
       "3  28C2DDDD415C  2017-01-01  08:09:04   20.0   0.0  0.0        24.12   \n",
       "4  28C2DDDD415C  2017-01-01  08:09:04   20.0   0.0  0.0        24.12   \n",
       "\n",
       "   Humidity     lat      lon  \n",
       "0      83.0  23.741  120.755  \n",
       "1      83.0  23.741  120.755  \n",
       "2      83.0  23.741  120.755  \n",
       "3      82.0  23.741  120.755  \n",
       "4      82.0  23.741  120.755  "
      ]
     },
     "execution_count": 2,
     "metadata": {},
     "output_type": "execute_result"
    }
   ],
   "source": [
    "data = pd.read_csv('PM25_train.csv')\n",
    "data.head()\n"
   ]
  },
  {
   "cell_type": "markdown",
   "metadata": {},
   "source": [
    "# EDA"
   ]
  },
  {
   "cell_type": "code",
   "execution_count": 3,
   "metadata": {},
   "outputs": [
    {
     "data": {
      "text/plain": [
       "device_id\n",
       "28C2DDDD415C    34.140247\n",
       "28C2DDDD47BC    39.766015\n",
       "74DA3895C1F8    44.860509\n",
       "74DA3895C1FA    38.921148\n",
       "74DA3895C200    46.241431\n",
       "Name: PM2.5, dtype: float64"
      ]
     },
     "execution_count": 3,
     "metadata": {},
     "output_type": "execute_result"
    }
   ],
   "source": [
    "gPM25 = data.groupby(['device_id'])['PM2.5'].mean()\n",
    "gPM25.head()"
   ]
  },
  {
   "cell_type": "code",
   "execution_count": 4,
   "metadata": {},
   "outputs": [],
   "source": [
    "gPM25 = data.groupby(['device_id'])['PM2.5'].mean().reset_index()\n",
    "gPM25 = gPM25.set_index('device_id').T.to_dict('list')\n",
    "\n",
    "gPM10 = data.groupby(['device_id'])['PM10'].mean().reset_index()\n",
    "gPM10 = gPM10.set_index('device_id').T.to_dict('list')\n",
    "\n",
    "gPM1 = data.groupby(['device_id'])['PM1'].mean().reset_index()\n",
    "gPM1 = gPM1.set_index('device_id').T.to_dict('list')\n",
    "\n",
    "PM25_MSE = 38.018157\n",
    "\n"
   ]
  },
  {
   "cell_type": "code",
   "execution_count": 5,
   "metadata": {},
   "outputs": [],
   "source": [
    "\n",
    "def addTimestampFeature(df):\n",
    "    TS_WEIGHT = 1000000000\n",
    "    #\"2017-01-01 08:03:09\" => 1483257789.0\n",
    "    #\"2017-01-01 08:09:04\" => 1483258144.0\n",
    "    df[\"Timestamp\"] =pd.to_datetime(df[\"Date\"].astype(str) + \" \" + df[\"Time\"], format='%Y-%m-%d %H:%M:%S').astype(np.int64) \n",
    "    #df[\"Timestamp\"] = df[\"Timestamp\"] // TS_WEIGHT\n",
    "    #df[\"TsDate\"] = pd.to_datetime(df[\"Date\"].astype(str), format='%Y-%m-%d').astype(np.int64) // TS_WEIGHT - 1480000000\n",
    "    #df[\"TsHour\"] = pd.to_datetime(df[\"Time\"], format='%H:%M:%S').astype(np.int64) // TS_WEIGHT *-1\n",
    "   \n",
    "\n",
    "    #add hour feature\n",
    "    #for i, row in df.iterrows():\n",
    "    #    hour = row[\"Time\"][0:2]\n",
    "    #    df.at[i,'TsHour'] = hour\n",
    "    return df "
   ]
  },
  {
   "cell_type": "code",
   "execution_count": 6,
   "metadata": {},
   "outputs": [],
   "source": [
    "#1.53438595694/0.13918\n",
    "def removeMissing(df):\n",
    "    df = df.drop(df[df[\"PM10\"]  == 0].index)\n",
    "    df = df.drop(df[df[\"PM1\"]  == 0].index)\n",
    "    return df\n",
    "    #data = addMissing(data)\n",
    "\n",
    "#PM10及PM1有缺值 經觀察\n",
    "#PM10約PM25 +3~4,#PM1約PM25-(6~7)\n",
    "#補完mse只有1.59 ，但..... test data沒有pm2可以抓... 更，只能塞mse\n",
    "def addMissing(df):\n",
    "    df.loc[df[\"PM10\"]  == 0 ,\"PM10\" ]  = df[\"PM2.5\"] + 3.5\n",
    "    df.loc[df[\"PM1\"]  == 0 ,\"PM1\" ]  = df[\"PM2.5\"] - 6.5\n",
    "    return df\n",
    "def addMissingMse(df):\n",
    "    df.loc[df[\"PM10\"]  == 0 ,\"PM10\" ]  = PM25_MSE + 3.5\n",
    "    df.loc[df[\"PM1\"]  == 0 ,\"PM1\" ]  = PM25_MSE - 6.5\n",
    "    return df\n",
    "def addMissingMean(df):\n",
    "    for i, row in df.iterrows():\n",
    "        if row[\"PM10\"]  == 0:\n",
    "            #df.at[i,'PM10'] = gPM25[row[\"device_id\"]][0] + gPM10[row[\"device_id\"]][0]\n",
    "            df.at[i,'PM10'] = gPM25[row[\"device_id\"]][0] * 1.2 #+ 3.5 #gPM10[row[\"device_id\"]][0]\n",
    "        if row[\"PM1\"]  == 0:\n",
    "            df.at[i,'PM1'] = gPM25[row[\"device_id\"]][0] * 0.8 # - 6.5 # gPM1[row[\"device_id\"]][0]\n",
    "    return df  \n",
    " \n",
    "def encodeDeviceid(df):\n",
    "    df['device_id'] = pd.factorize(df['device_id'])[0]\n",
    "    return df"
   ]
  },
  {
   "cell_type": "code",
   "execution_count": 7,
   "metadata": {},
   "outputs": [
    {
     "data": {
      "text/html": [
       "<div>\n",
       "<table border=\"1\" class=\"dataframe\">\n",
       "  <thead>\n",
       "    <tr style=\"text-align: right;\">\n",
       "      <th></th>\n",
       "      <th>device_id</th>\n",
       "      <th>Date</th>\n",
       "      <th>Time</th>\n",
       "      <th>PM2.5</th>\n",
       "      <th>PM10</th>\n",
       "      <th>PM1</th>\n",
       "      <th>Temperature</th>\n",
       "      <th>Humidity</th>\n",
       "      <th>lat</th>\n",
       "      <th>lon</th>\n",
       "      <th>Timestamp</th>\n",
       "    </tr>\n",
       "  </thead>\n",
       "  <tbody>\n",
       "    <tr>\n",
       "      <th>0</th>\n",
       "      <td>28C2DDDD415C</td>\n",
       "      <td>2017-01-01</td>\n",
       "      <td>08:03:09</td>\n",
       "      <td>21.0</td>\n",
       "      <td>0.0</td>\n",
       "      <td>0.0</td>\n",
       "      <td>24.12</td>\n",
       "      <td>83.0</td>\n",
       "      <td>23.741</td>\n",
       "      <td>120.755</td>\n",
       "      <td>1483257789000000000</td>\n",
       "    </tr>\n",
       "    <tr>\n",
       "      <th>1</th>\n",
       "      <td>28C2DDDD415C</td>\n",
       "      <td>2017-01-01</td>\n",
       "      <td>08:03:09</td>\n",
       "      <td>21.0</td>\n",
       "      <td>0.0</td>\n",
       "      <td>0.0</td>\n",
       "      <td>24.12</td>\n",
       "      <td>83.0</td>\n",
       "      <td>23.741</td>\n",
       "      <td>120.755</td>\n",
       "      <td>1483257789000000000</td>\n",
       "    </tr>\n",
       "    <tr>\n",
       "      <th>2</th>\n",
       "      <td>28C2DDDD415C</td>\n",
       "      <td>2017-01-01</td>\n",
       "      <td>08:03:09</td>\n",
       "      <td>21.0</td>\n",
       "      <td>0.0</td>\n",
       "      <td>0.0</td>\n",
       "      <td>24.12</td>\n",
       "      <td>83.0</td>\n",
       "      <td>23.741</td>\n",
       "      <td>120.755</td>\n",
       "      <td>1483257789000000000</td>\n",
       "    </tr>\n",
       "    <tr>\n",
       "      <th>3</th>\n",
       "      <td>28C2DDDD415C</td>\n",
       "      <td>2017-01-01</td>\n",
       "      <td>08:09:04</td>\n",
       "      <td>20.0</td>\n",
       "      <td>0.0</td>\n",
       "      <td>0.0</td>\n",
       "      <td>24.12</td>\n",
       "      <td>82.0</td>\n",
       "      <td>23.741</td>\n",
       "      <td>120.755</td>\n",
       "      <td>1483258144000000000</td>\n",
       "    </tr>\n",
       "    <tr>\n",
       "      <th>4</th>\n",
       "      <td>28C2DDDD415C</td>\n",
       "      <td>2017-01-01</td>\n",
       "      <td>08:09:04</td>\n",
       "      <td>20.0</td>\n",
       "      <td>0.0</td>\n",
       "      <td>0.0</td>\n",
       "      <td>24.12</td>\n",
       "      <td>82.0</td>\n",
       "      <td>23.741</td>\n",
       "      <td>120.755</td>\n",
       "      <td>1483258144000000000</td>\n",
       "    </tr>\n",
       "  </tbody>\n",
       "</table>\n",
       "</div>"
      ],
      "text/plain": [
       "      device_id        Date      Time  PM2.5  PM10  PM1  Temperature  \\\n",
       "0  28C2DDDD415C  2017-01-01  08:03:09   21.0   0.0  0.0        24.12   \n",
       "1  28C2DDDD415C  2017-01-01  08:03:09   21.0   0.0  0.0        24.12   \n",
       "2  28C2DDDD415C  2017-01-01  08:03:09   21.0   0.0  0.0        24.12   \n",
       "3  28C2DDDD415C  2017-01-01  08:09:04   20.0   0.0  0.0        24.12   \n",
       "4  28C2DDDD415C  2017-01-01  08:09:04   20.0   0.0  0.0        24.12   \n",
       "\n",
       "   Humidity     lat      lon            Timestamp  \n",
       "0      83.0  23.741  120.755  1483257789000000000  \n",
       "1      83.0  23.741  120.755  1483257789000000000  \n",
       "2      83.0  23.741  120.755  1483257789000000000  \n",
       "3      82.0  23.741  120.755  1483258144000000000  \n",
       "4      82.0  23.741  120.755  1483258144000000000  "
      ]
     },
     "execution_count": 7,
     "metadata": {},
     "output_type": "execute_result"
    }
   ],
   "source": [
    "# addTimestampFeature\n",
    "data = addTimestampFeature(data)\n",
    "\n",
    "data.head()"
   ]
  },
  {
   "cell_type": "code",
   "execution_count": 8,
   "metadata": {},
   "outputs": [
    {
     "data": {
      "text/html": [
       "<div>\n",
       "<table border=\"1\" class=\"dataframe\">\n",
       "  <thead>\n",
       "    <tr style=\"text-align: right;\">\n",
       "      <th></th>\n",
       "      <th>device_id</th>\n",
       "      <th>Date</th>\n",
       "      <th>Time</th>\n",
       "      <th>PM2.5</th>\n",
       "      <th>PM10</th>\n",
       "      <th>PM1</th>\n",
       "      <th>Temperature</th>\n",
       "      <th>Humidity</th>\n",
       "      <th>lat</th>\n",
       "      <th>lon</th>\n",
       "      <th>Timestamp</th>\n",
       "    </tr>\n",
       "  </thead>\n",
       "  <tbody>\n",
       "    <tr>\n",
       "      <th>0</th>\n",
       "      <td>0</td>\n",
       "      <td>2017-01-01</td>\n",
       "      <td>08:03:09</td>\n",
       "      <td>21.0</td>\n",
       "      <td>0.0</td>\n",
       "      <td>0.0</td>\n",
       "      <td>24.12</td>\n",
       "      <td>83.0</td>\n",
       "      <td>23.741</td>\n",
       "      <td>120.755</td>\n",
       "      <td>1483257789000000000</td>\n",
       "    </tr>\n",
       "    <tr>\n",
       "      <th>1</th>\n",
       "      <td>0</td>\n",
       "      <td>2017-01-01</td>\n",
       "      <td>08:03:09</td>\n",
       "      <td>21.0</td>\n",
       "      <td>0.0</td>\n",
       "      <td>0.0</td>\n",
       "      <td>24.12</td>\n",
       "      <td>83.0</td>\n",
       "      <td>23.741</td>\n",
       "      <td>120.755</td>\n",
       "      <td>1483257789000000000</td>\n",
       "    </tr>\n",
       "    <tr>\n",
       "      <th>2</th>\n",
       "      <td>0</td>\n",
       "      <td>2017-01-01</td>\n",
       "      <td>08:03:09</td>\n",
       "      <td>21.0</td>\n",
       "      <td>0.0</td>\n",
       "      <td>0.0</td>\n",
       "      <td>24.12</td>\n",
       "      <td>83.0</td>\n",
       "      <td>23.741</td>\n",
       "      <td>120.755</td>\n",
       "      <td>1483257789000000000</td>\n",
       "    </tr>\n",
       "    <tr>\n",
       "      <th>3</th>\n",
       "      <td>0</td>\n",
       "      <td>2017-01-01</td>\n",
       "      <td>08:09:04</td>\n",
       "      <td>20.0</td>\n",
       "      <td>0.0</td>\n",
       "      <td>0.0</td>\n",
       "      <td>24.12</td>\n",
       "      <td>82.0</td>\n",
       "      <td>23.741</td>\n",
       "      <td>120.755</td>\n",
       "      <td>1483258144000000000</td>\n",
       "    </tr>\n",
       "    <tr>\n",
       "      <th>4</th>\n",
       "      <td>0</td>\n",
       "      <td>2017-01-01</td>\n",
       "      <td>08:09:04</td>\n",
       "      <td>20.0</td>\n",
       "      <td>0.0</td>\n",
       "      <td>0.0</td>\n",
       "      <td>24.12</td>\n",
       "      <td>82.0</td>\n",
       "      <td>23.741</td>\n",
       "      <td>120.755</td>\n",
       "      <td>1483258144000000000</td>\n",
       "    </tr>\n",
       "  </tbody>\n",
       "</table>\n",
       "</div>"
      ],
      "text/plain": [
       "   device_id        Date      Time  PM2.5  PM10  PM1  Temperature  Humidity  \\\n",
       "0          0  2017-01-01  08:03:09   21.0   0.0  0.0        24.12      83.0   \n",
       "1          0  2017-01-01  08:03:09   21.0   0.0  0.0        24.12      83.0   \n",
       "2          0  2017-01-01  08:03:09   21.0   0.0  0.0        24.12      83.0   \n",
       "3          0  2017-01-01  08:09:04   20.0   0.0  0.0        24.12      82.0   \n",
       "4          0  2017-01-01  08:09:04   20.0   0.0  0.0        24.12      82.0   \n",
       "\n",
       "      lat      lon            Timestamp  \n",
       "0  23.741  120.755  1483257789000000000  \n",
       "1  23.741  120.755  1483257789000000000  \n",
       "2  23.741  120.755  1483257789000000000  \n",
       "3  23.741  120.755  1483258144000000000  \n",
       "4  23.741  120.755  1483258144000000000  "
      ]
     },
     "execution_count": 8,
     "metadata": {},
     "output_type": "execute_result"
    }
   ],
   "source": [
    "#one hot encoding\n",
    "data=encodeDeviceid(data)\n",
    "\n",
    "data.head()\n"
   ]
  },
  {
   "cell_type": "markdown",
   "metadata": {},
   "source": [
    "# X,y\n"
   ]
  },
  {
   "cell_type": "code",
   "execution_count": 9,
   "metadata": {},
   "outputs": [
    {
     "data": {
      "text/plain": [
       "array([[  0.00000000e+00,   0.00000000e+00,   0.00000000e+00,\n",
       "          2.41200000e+01,   8.30000000e+01,   2.37410000e+01,\n",
       "          1.20755000e+02,   1.48325779e+18],\n",
       "       [  0.00000000e+00,   0.00000000e+00,   0.00000000e+00,\n",
       "          2.41200000e+01,   8.30000000e+01,   2.37410000e+01,\n",
       "          1.20755000e+02,   1.48325779e+18],\n",
       "       [  0.00000000e+00,   0.00000000e+00,   0.00000000e+00,\n",
       "          2.41200000e+01,   8.30000000e+01,   2.37410000e+01,\n",
       "          1.20755000e+02,   1.48325779e+18],\n",
       "       [  0.00000000e+00,   0.00000000e+00,   0.00000000e+00,\n",
       "          2.41200000e+01,   8.20000000e+01,   2.37410000e+01,\n",
       "          1.20755000e+02,   1.48325814e+18],\n",
       "       [  0.00000000e+00,   0.00000000e+00,   0.00000000e+00,\n",
       "          2.41200000e+01,   8.20000000e+01,   2.37410000e+01,\n",
       "          1.20755000e+02,   1.48325814e+18]])"
      ]
     },
     "execution_count": 9,
     "metadata": {},
     "output_type": "execute_result"
    }
   ],
   "source": [
    "\n",
    "#handle missing data\n",
    "#data = removeMissing(data)\n",
    "\n",
    "X = data.drop(['Date','Time','PM2.5'],axis=1)\n",
    "\n",
    "#正規化\n",
    "#my_imputer = Imputer(missing_values=0, strategy='mean', axis=0)\n",
    "my_imputer = Imputer()\n",
    "X = my_imputer.fit_transform(X)\n",
    "\n",
    "#imputed_X_test_plus = my_imputer.transform(imputed_X_test_plus)\n",
    "X[:5]"
   ]
  },
  {
   "cell_type": "code",
   "execution_count": 10,
   "metadata": {},
   "outputs": [
    {
     "data": {
      "text/plain": [
       "(1116554,)"
      ]
     },
     "execution_count": 10,
     "metadata": {},
     "output_type": "execute_result"
    }
   ],
   "source": [
    "y = data[\"PM2.5\"].as_matrix()\n",
    "y.shape"
   ]
  },
  {
   "cell_type": "markdown",
   "metadata": {},
   "source": [
    "# model"
   ]
  },
  {
   "cell_type": "code",
   "execution_count": null,
   "metadata": {},
   "outputs": [],
   "source": []
  },
  {
   "cell_type": "code",
   "execution_count": 11,
   "metadata": {},
   "outputs": [
    {
     "data": {
      "text/plain": [
       "RandomForestRegressor(bootstrap=True, criterion='mse', max_depth=None,\n",
       "           max_features='auto', max_leaf_nodes=None,\n",
       "           min_impurity_decrease=0.0, min_impurity_split=None,\n",
       "           min_samples_leaf=1, min_samples_split=2,\n",
       "           min_weight_fraction_leaf=0.0, n_estimators=10, n_jobs=1,\n",
       "           oob_score=False, random_state=50, verbose=0, warm_start=False)"
      ]
     },
     "execution_count": 11,
     "metadata": {},
     "output_type": "execute_result"
    }
   ],
   "source": [
    "from sklearn import linear_model, ensemble\n",
    "\n",
    "linear = linear_model.LinearRegression(normalize=True) #Score: 0.994944403792355 MSE: 1.5351809358318766\n",
    "\n",
    "alpha =  1e-6\n",
    "ridge = linear_model.Ridge(alpha = alpha, normalize=True) # Score: 0.9949444037920316 MSE: 1.535180935930128 (alpha =  1e-6)\n",
    "lasso = linear_model.Lasso(alpha = alpha, normalize=True) #Score: 0.9948977875106408 MSE: 1.5493364229491262\n",
    "\n",
    "\n",
    "tree =  ensemble.RandomForestRegressor(random_state = 50)\n",
    "#1.Score: 0.9996180256259861 MSE: 0.11599023198801968 remove nan\n",
    "#2.Score: 0.9995956040352367 MSE: 0.12348349475260488 加上device id 雖然變差，但有效\n",
    "#3.Score: 0.9996072109886688 MSE: 0.1199392774554567 時間變小\n",
    "#4.Score: 0.9994960884200959 MSE: 0.15387087991673198 固定hour 反而變差\n",
    "#5.Score: 0.9996165258290322 MSE: 0.11709496361125395 只看timestamp 反而較好 除14800000000 反而變差\n",
    "#6.Score: 0.9996240781169226 MSE: 0.11478885033773557 只看timestamp +看TsHour \n",
    "#但實際變差 還是2最好\n",
    "# add missing value to mse\n",
    "\n",
    "reg = tree\n",
    "\n",
    "reg.fit (X,y)"
   ]
  },
  {
   "cell_type": "code",
   "execution_count": 12,
   "metadata": {},
   "outputs": [
    {
     "name": "stdout",
     "output_type": "stream",
     "text": [
      "Score: 0.9996145337954127 MSE: 0.11770323692360607\n"
     ]
    }
   ],
   "source": [
    "y_pred = reg.predict(X)\n",
    "mse = mean_squared_error(y_pred,y)\n",
    "#print (reg.coef_)\n",
    "print(\"Score: {} MSE: {}\".format(reg.score(X,y),mse))"
   ]
  },
  {
   "cell_type": "markdown",
   "metadata": {},
   "source": [
    "# predict"
   ]
  },
  {
   "cell_type": "markdown",
   "metadata": {},
   "source": [
    "## get test data"
   ]
  },
  {
   "cell_type": "code",
   "execution_count": 13,
   "metadata": {},
   "outputs": [
    {
     "data": {
      "text/html": [
       "<div>\n",
       "<table border=\"1\" class=\"dataframe\">\n",
       "  <thead>\n",
       "    <tr style=\"text-align: right;\">\n",
       "      <th></th>\n",
       "      <th>device_id</th>\n",
       "      <th>Date</th>\n",
       "      <th>Time</th>\n",
       "      <th>PM10</th>\n",
       "      <th>PM1</th>\n",
       "      <th>Temperature</th>\n",
       "      <th>Humidity</th>\n",
       "      <th>lat</th>\n",
       "      <th>lon</th>\n",
       "      <th>Timestamp</th>\n",
       "    </tr>\n",
       "  </thead>\n",
       "  <tbody>\n",
       "    <tr>\n",
       "      <th>0</th>\n",
       "      <td>28C2DDDD415C</td>\n",
       "      <td>2017-01-31</td>\n",
       "      <td>00:04:05</td>\n",
       "      <td>0.0</td>\n",
       "      <td>0.0</td>\n",
       "      <td>18.62</td>\n",
       "      <td>92.0</td>\n",
       "      <td>23.741</td>\n",
       "      <td>120.755</td>\n",
       "      <td>1485821045000000000</td>\n",
       "    </tr>\n",
       "    <tr>\n",
       "      <th>1</th>\n",
       "      <td>28C2DDDD415C</td>\n",
       "      <td>2017-01-31</td>\n",
       "      <td>00:10:01</td>\n",
       "      <td>0.0</td>\n",
       "      <td>0.0</td>\n",
       "      <td>18.75</td>\n",
       "      <td>92.0</td>\n",
       "      <td>23.741</td>\n",
       "      <td>120.755</td>\n",
       "      <td>1485821401000000000</td>\n",
       "    </tr>\n",
       "    <tr>\n",
       "      <th>2</th>\n",
       "      <td>28C2DDDD415C</td>\n",
       "      <td>2017-01-31</td>\n",
       "      <td>00:15:57</td>\n",
       "      <td>0.0</td>\n",
       "      <td>0.0</td>\n",
       "      <td>18.62</td>\n",
       "      <td>92.0</td>\n",
       "      <td>23.741</td>\n",
       "      <td>120.755</td>\n",
       "      <td>1485821757000000000</td>\n",
       "    </tr>\n",
       "    <tr>\n",
       "      <th>3</th>\n",
       "      <td>28C2DDDD415C</td>\n",
       "      <td>2017-01-31</td>\n",
       "      <td>00:21:53</td>\n",
       "      <td>0.0</td>\n",
       "      <td>0.0</td>\n",
       "      <td>18.62</td>\n",
       "      <td>92.0</td>\n",
       "      <td>23.741</td>\n",
       "      <td>120.755</td>\n",
       "      <td>1485822113000000000</td>\n",
       "    </tr>\n",
       "    <tr>\n",
       "      <th>4</th>\n",
       "      <td>28C2DDDD415C</td>\n",
       "      <td>2017-01-31</td>\n",
       "      <td>00:27:48</td>\n",
       "      <td>0.0</td>\n",
       "      <td>0.0</td>\n",
       "      <td>18.62</td>\n",
       "      <td>92.0</td>\n",
       "      <td>23.741</td>\n",
       "      <td>120.755</td>\n",
       "      <td>1485822468000000000</td>\n",
       "    </tr>\n",
       "  </tbody>\n",
       "</table>\n",
       "</div>"
      ],
      "text/plain": [
       "      device_id        Date      Time  PM10  PM1  Temperature  Humidity  \\\n",
       "0  28C2DDDD415C  2017-01-31  00:04:05   0.0  0.0        18.62      92.0   \n",
       "1  28C2DDDD415C  2017-01-31  00:10:01   0.0  0.0        18.75      92.0   \n",
       "2  28C2DDDD415C  2017-01-31  00:15:57   0.0  0.0        18.62      92.0   \n",
       "3  28C2DDDD415C  2017-01-31  00:21:53   0.0  0.0        18.62      92.0   \n",
       "4  28C2DDDD415C  2017-01-31  00:27:48   0.0  0.0        18.62      92.0   \n",
       "\n",
       "      lat      lon            Timestamp  \n",
       "0  23.741  120.755  1485821045000000000  \n",
       "1  23.741  120.755  1485821401000000000  \n",
       "2  23.741  120.755  1485821757000000000  \n",
       "3  23.741  120.755  1485822113000000000  \n",
       "4  23.741  120.755  1485822468000000000  "
      ]
     },
     "execution_count": 13,
     "metadata": {},
     "output_type": "execute_result"
    }
   ],
   "source": [
    "test_data = pd.read_csv(\"PM25_test.csv\")\n",
    "\n",
    "test_x = addTimestampFeature(test_data)\n",
    "test_x.head()"
   ]
  },
  {
   "cell_type": "code",
   "execution_count": 14,
   "metadata": {},
   "outputs": [
    {
     "data": {
      "text/html": [
       "<div>\n",
       "<table border=\"1\" class=\"dataframe\">\n",
       "  <thead>\n",
       "    <tr style=\"text-align: right;\">\n",
       "      <th></th>\n",
       "      <th>device_id</th>\n",
       "      <th>PM10</th>\n",
       "      <th>PM1</th>\n",
       "      <th>Temperature</th>\n",
       "      <th>Humidity</th>\n",
       "      <th>lat</th>\n",
       "      <th>lon</th>\n",
       "      <th>Timestamp</th>\n",
       "    </tr>\n",
       "  </thead>\n",
       "  <tbody>\n",
       "    <tr>\n",
       "      <th>0</th>\n",
       "      <td>0</td>\n",
       "      <td>0.0</td>\n",
       "      <td>0.0</td>\n",
       "      <td>18.62</td>\n",
       "      <td>92.0</td>\n",
       "      <td>23.741</td>\n",
       "      <td>120.755</td>\n",
       "      <td>1485821045000000000</td>\n",
       "    </tr>\n",
       "    <tr>\n",
       "      <th>1</th>\n",
       "      <td>0</td>\n",
       "      <td>0.0</td>\n",
       "      <td>0.0</td>\n",
       "      <td>18.75</td>\n",
       "      <td>92.0</td>\n",
       "      <td>23.741</td>\n",
       "      <td>120.755</td>\n",
       "      <td>1485821401000000000</td>\n",
       "    </tr>\n",
       "    <tr>\n",
       "      <th>2</th>\n",
       "      <td>0</td>\n",
       "      <td>0.0</td>\n",
       "      <td>0.0</td>\n",
       "      <td>18.62</td>\n",
       "      <td>92.0</td>\n",
       "      <td>23.741</td>\n",
       "      <td>120.755</td>\n",
       "      <td>1485821757000000000</td>\n",
       "    </tr>\n",
       "    <tr>\n",
       "      <th>3</th>\n",
       "      <td>0</td>\n",
       "      <td>0.0</td>\n",
       "      <td>0.0</td>\n",
       "      <td>18.62</td>\n",
       "      <td>92.0</td>\n",
       "      <td>23.741</td>\n",
       "      <td>120.755</td>\n",
       "      <td>1485822113000000000</td>\n",
       "    </tr>\n",
       "    <tr>\n",
       "      <th>4</th>\n",
       "      <td>0</td>\n",
       "      <td>0.0</td>\n",
       "      <td>0.0</td>\n",
       "      <td>18.62</td>\n",
       "      <td>92.0</td>\n",
       "      <td>23.741</td>\n",
       "      <td>120.755</td>\n",
       "      <td>1485822468000000000</td>\n",
       "    </tr>\n",
       "  </tbody>\n",
       "</table>\n",
       "</div>"
      ],
      "text/plain": [
       "   device_id  PM10  PM1  Temperature  Humidity     lat      lon  \\\n",
       "0          0   0.0  0.0        18.62      92.0  23.741  120.755   \n",
       "1          0   0.0  0.0        18.75      92.0  23.741  120.755   \n",
       "2          0   0.0  0.0        18.62      92.0  23.741  120.755   \n",
       "3          0   0.0  0.0        18.62      92.0  23.741  120.755   \n",
       "4          0   0.0  0.0        18.62      92.0  23.741  120.755   \n",
       "\n",
       "             Timestamp  \n",
       "0  1485821045000000000  \n",
       "1  1485821401000000000  \n",
       "2  1485821757000000000  \n",
       "3  1485822113000000000  \n",
       "4  1485822468000000000  "
      ]
     },
     "execution_count": 14,
     "metadata": {},
     "output_type": "execute_result"
    }
   ],
   "source": [
    "# add missing data\n",
    "#test_x = addMissingMean(test_x)\n",
    "\n",
    "#one hot encoding\n",
    "test_x = encodeDeviceid(test_x)\n",
    "\n",
    "test_x = test_x.drop(['Date','Time'],axis=1)\n",
    "test_x.head()"
   ]
  },
  {
   "cell_type": "code",
   "execution_count": 15,
   "metadata": {},
   "outputs": [],
   "source": [
    "test_x = my_imputer.fit_transform(test_x)\n"
   ]
  },
  {
   "cell_type": "code",
   "execution_count": 16,
   "metadata": {},
   "outputs": [
    {
     "data": {
      "text/plain": [
       "array([ 47.9,  47.9,  47.9, ...,  11.7,   9.3,   9.9])"
      ]
     },
     "execution_count": 16,
     "metadata": {},
     "output_type": "execute_result"
    }
   ],
   "source": [
    "#predict\n",
    "pre = reg.predict(test_x)\n",
    "pre"
   ]
  },
  {
   "cell_type": "code",
   "execution_count": 17,
   "metadata": {},
   "outputs": [
    {
     "name": "stderr",
     "output_type": "stream",
     "text": [
      "/opt/conda/lib/python3.6/site-packages/ipykernel_launcher.py:2: SettingWithCopyWarning: \n",
      "A value is trying to be set on a copy of a slice from a DataFrame.\n",
      "Try using .loc[row_indexer,col_indexer] = value instead\n",
      "\n",
      "See the caveats in the documentation: http://pandas.pydata.org/pandas-docs/stable/indexing.html#indexing-view-versus-copy\n",
      "  \n"
     ]
    },
    {
     "data": {
      "text/html": [
       "<div>\n",
       "<table border=\"1\" class=\"dataframe\">\n",
       "  <thead>\n",
       "    <tr style=\"text-align: right;\">\n",
       "      <th></th>\n",
       "      <th>device_id</th>\n",
       "      <th>pred_pm25</th>\n",
       "    </tr>\n",
       "  </thead>\n",
       "  <tbody>\n",
       "    <tr>\n",
       "      <th>0</th>\n",
       "      <td>0</td>\n",
       "      <td>47.9</td>\n",
       "    </tr>\n",
       "    <tr>\n",
       "      <th>1</th>\n",
       "      <td>0</td>\n",
       "      <td>47.9</td>\n",
       "    </tr>\n",
       "    <tr>\n",
       "      <th>2</th>\n",
       "      <td>0</td>\n",
       "      <td>47.9</td>\n",
       "    </tr>\n",
       "    <tr>\n",
       "      <th>3</th>\n",
       "      <td>0</td>\n",
       "      <td>47.9</td>\n",
       "    </tr>\n",
       "    <tr>\n",
       "      <th>4</th>\n",
       "      <td>0</td>\n",
       "      <td>47.9</td>\n",
       "    </tr>\n",
       "  </tbody>\n",
       "</table>\n",
       "</div>"
      ],
      "text/plain": [
       "   device_id  pred_pm25\n",
       "0          0       47.9\n",
       "1          0       47.9\n",
       "2          0       47.9\n",
       "3          0       47.9\n",
       "4          0       47.9"
      ]
     },
     "execution_count": 17,
     "metadata": {},
     "output_type": "execute_result"
    }
   ],
   "source": [
    "result = test_data[[\"device_id\"]]\n",
    "result[\"pred_pm25\"] = pre\n",
    "result.head()"
   ]
  },
  {
   "cell_type": "code",
   "execution_count": 18,
   "metadata": {},
   "outputs": [
    {
     "data": {
      "text/plain": [
       "device_id\n",
       "0    38.371111\n",
       "1    21.223757\n",
       "2    16.119595\n",
       "3    14.263889\n",
       "4    15.572951\n",
       "Name: pred_pm25, dtype: float64"
      ]
     },
     "execution_count": 18,
     "metadata": {},
     "output_type": "execute_result"
    }
   ],
   "source": [
    "#unique device id\n",
    "\n",
    "#pred_means = result.groupby(['device_id'])['pred_pm25'].mean().reset_index()\n",
    "pred_means = result.groupby(['device_id'])['pred_pm25'].mean()\n",
    "pred_means.head()"
   ]
  },
  {
   "cell_type": "code",
   "execution_count": 19,
   "metadata": {},
   "outputs": [
    {
     "data": {
      "text/html": [
       "<div>\n",
       "<table border=\"1\" class=\"dataframe\">\n",
       "  <thead>\n",
       "    <tr style=\"text-align: right;\">\n",
       "      <th></th>\n",
       "      <th>device_id</th>\n",
       "      <th>pred_pm25</th>\n",
       "    </tr>\n",
       "  </thead>\n",
       "  <tbody>\n",
       "    <tr>\n",
       "      <th>0</th>\n",
       "      <td>28C2DDDD415C</td>\n",
       "      <td>38.371111</td>\n",
       "    </tr>\n",
       "    <tr>\n",
       "      <th>1</th>\n",
       "      <td>28C2DDDD47BC</td>\n",
       "      <td>21.223757</td>\n",
       "    </tr>\n",
       "    <tr>\n",
       "      <th>2</th>\n",
       "      <td>74DA3895C1F8</td>\n",
       "      <td>16.119595</td>\n",
       "    </tr>\n",
       "    <tr>\n",
       "      <th>3</th>\n",
       "      <td>74DA3895C1FA</td>\n",
       "      <td>14.263889</td>\n",
       "    </tr>\n",
       "    <tr>\n",
       "      <th>4</th>\n",
       "      <td>74DA3895C200</td>\n",
       "      <td>15.572951</td>\n",
       "    </tr>\n",
       "  </tbody>\n",
       "</table>\n",
       "</div>"
      ],
      "text/plain": [
       "      device_id  pred_pm25\n",
       "0  28C2DDDD415C  38.371111\n",
       "1  28C2DDDD47BC  21.223757\n",
       "2  74DA3895C1F8  16.119595\n",
       "3  74DA3895C1FA  14.263889\n",
       "4  74DA3895C200  15.572951"
      ]
     },
     "execution_count": 19,
     "metadata": {},
     "output_type": "execute_result"
    }
   ],
   "source": [
    "submission=pd.read_csv('submission.csv')\n",
    "submission['pred_pm25']=pred_means\n",
    "submission.head()"
   ]
  },
  {
   "cell_type": "code",
   "execution_count": 20,
   "metadata": {},
   "outputs": [],
   "source": [
    "#np.savetxt(, result.tolist(), delimiter = ',')\n",
    "submission.to_csv('pm25-sumbmission.csv', index  = False)"
   ]
  }
 ],
 "metadata": {
  "kernelspec": {
   "display_name": "Python 3",
   "language": "python",
   "name": "python3"
  },
  "language_info": {
   "codemirror_mode": {
    "name": "ipython",
    "version": 3
   },
   "file_extension": ".py",
   "mimetype": "text/x-python",
   "name": "python",
   "nbconvert_exporter": "python",
   "pygments_lexer": "ipython3",
   "version": "3.6.3"
  }
 },
 "nbformat": 4,
 "nbformat_minor": 2
}
