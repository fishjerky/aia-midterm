{
 "cells": [
  {
   "cell_type": "markdown",
   "metadata": {},
   "source": [
    "# Import Library"
   ]
  },
  {
   "cell_type": "code",
   "execution_count": 1,
   "metadata": {
    "collapsed": true
   },
   "outputs": [],
   "source": [
    "import numpy as np\n",
    "import pandas as pd\n",
    "import random\n",
    "import matplotlib.pyplot as plt\n",
    "%matplotlib inline\n",
    "from matplotlib.pylab import rcParams\n",
    "rcParams['figure.figsize'] = 8, 5\n",
    "from sklearn.metrics import mean_squared_error"
   ]
  },
  {
   "cell_type": "code",
   "execution_count": 2,
   "metadata": {},
   "outputs": [
    {
     "data": {
      "text/plain": [
       "(1116554, 10)"
      ]
     },
     "execution_count": 2,
     "metadata": {},
     "output_type": "execute_result"
    }
   ],
   "source": [
    "data = pd.read_csv('PM25_train.csv')\n",
    "data.head()\n",
    "data.shape"
   ]
  },
  {
   "cell_type": "markdown",
   "metadata": {},
   "source": [
    "# EDA"
   ]
  },
  {
   "cell_type": "code",
   "execution_count": 3,
   "metadata": {},
   "outputs": [],
   "source": [
    "gPM25 = data.groupby(['device_id'])['PM2.5'].mean().reset_index()\n",
    "gPM25 = gPM25.set_index('device_id').T.to_dict('list')\n",
    "\n",
    "gPM10 = data.groupby(['device_id'])['PM10'].mean().reset_index()\n",
    "gPM0 = data.groupby(['device_id'])['PM1'].mean().reset_index()\n",
    "\n",
    "PM25_MSE = 38.018157\n",
    "\n"
   ]
  },
  {
   "cell_type": "code",
   "execution_count": 4,
   "metadata": {},
   "outputs": [
    {
     "data": {
      "text/plain": [
       "count    1.116554e+06\n",
       "mean     3.818598e+01\n",
       "std      1.747436e+01\n",
       "min      0.000000e+00\n",
       "25%      2.700000e+01\n",
       "50%      3.800000e+01\n",
       "75%      4.800000e+01\n",
       "max      7.860000e+02\n",
       "Name: PM2.5, dtype: float64"
      ]
     },
     "execution_count": 4,
     "metadata": {},
     "output_type": "execute_result"
    }
   ],
   "source": [
    "data[\"PM2.5\"].describe()\n"
   ]
  },
  {
   "cell_type": "code",
   "execution_count": 5,
   "metadata": {},
   "outputs": [],
   "source": [
    "\n",
    "#plt.plot(X['Date'],X['PM2.5'],'.')\n",
    "#plt.plot(data['lat'],data['lon'],'.')"
   ]
  },
  {
   "cell_type": "code",
   "execution_count": 6,
   "metadata": {},
   "outputs": [
    {
     "data": {
      "text/html": [
       "<div>\n",
       "<table border=\"1\" class=\"dataframe\">\n",
       "  <thead>\n",
       "    <tr style=\"text-align: right;\">\n",
       "      <th></th>\n",
       "      <th>device_id</th>\n",
       "      <th>Date</th>\n",
       "      <th>Time</th>\n",
       "      <th>PM2.5</th>\n",
       "      <th>PM10</th>\n",
       "      <th>PM1</th>\n",
       "      <th>Temperature</th>\n",
       "      <th>Humidity</th>\n",
       "      <th>lat</th>\n",
       "      <th>lon</th>\n",
       "      <th>Timestamp</th>\n",
       "    </tr>\n",
       "  </thead>\n",
       "  <tbody>\n",
       "    <tr>\n",
       "      <th>0</th>\n",
       "      <td>28C2DDDD415C</td>\n",
       "      <td>2017-01-01</td>\n",
       "      <td>08:03:09</td>\n",
       "      <td>21.0</td>\n",
       "      <td>0.0</td>\n",
       "      <td>0.0</td>\n",
       "      <td>24.12</td>\n",
       "      <td>83.0</td>\n",
       "      <td>23.741</td>\n",
       "      <td>120.755</td>\n",
       "      <td>1483257789000000000</td>\n",
       "    </tr>\n",
       "    <tr>\n",
       "      <th>1</th>\n",
       "      <td>28C2DDDD415C</td>\n",
       "      <td>2017-01-01</td>\n",
       "      <td>08:03:09</td>\n",
       "      <td>21.0</td>\n",
       "      <td>0.0</td>\n",
       "      <td>0.0</td>\n",
       "      <td>24.12</td>\n",
       "      <td>83.0</td>\n",
       "      <td>23.741</td>\n",
       "      <td>120.755</td>\n",
       "      <td>1483257789000000000</td>\n",
       "    </tr>\n",
       "    <tr>\n",
       "      <th>2</th>\n",
       "      <td>28C2DDDD415C</td>\n",
       "      <td>2017-01-01</td>\n",
       "      <td>08:03:09</td>\n",
       "      <td>21.0</td>\n",
       "      <td>0.0</td>\n",
       "      <td>0.0</td>\n",
       "      <td>24.12</td>\n",
       "      <td>83.0</td>\n",
       "      <td>23.741</td>\n",
       "      <td>120.755</td>\n",
       "      <td>1483257789000000000</td>\n",
       "    </tr>\n",
       "    <tr>\n",
       "      <th>3</th>\n",
       "      <td>28C2DDDD415C</td>\n",
       "      <td>2017-01-01</td>\n",
       "      <td>08:09:04</td>\n",
       "      <td>20.0</td>\n",
       "      <td>0.0</td>\n",
       "      <td>0.0</td>\n",
       "      <td>24.12</td>\n",
       "      <td>82.0</td>\n",
       "      <td>23.741</td>\n",
       "      <td>120.755</td>\n",
       "      <td>1483258144000000000</td>\n",
       "    </tr>\n",
       "    <tr>\n",
       "      <th>4</th>\n",
       "      <td>28C2DDDD415C</td>\n",
       "      <td>2017-01-01</td>\n",
       "      <td>08:09:04</td>\n",
       "      <td>20.0</td>\n",
       "      <td>0.0</td>\n",
       "      <td>0.0</td>\n",
       "      <td>24.12</td>\n",
       "      <td>82.0</td>\n",
       "      <td>23.741</td>\n",
       "      <td>120.755</td>\n",
       "      <td>1483258144000000000</td>\n",
       "    </tr>\n",
       "  </tbody>\n",
       "</table>\n",
       "</div>"
      ],
      "text/plain": [
       "      device_id        Date      Time  PM2.5  PM10  PM1  Temperature  \\\n",
       "0  28C2DDDD415C  2017-01-01  08:03:09   21.0   0.0  0.0        24.12   \n",
       "1  28C2DDDD415C  2017-01-01  08:03:09   21.0   0.0  0.0        24.12   \n",
       "2  28C2DDDD415C  2017-01-01  08:03:09   21.0   0.0  0.0        24.12   \n",
       "3  28C2DDDD415C  2017-01-01  08:09:04   20.0   0.0  0.0        24.12   \n",
       "4  28C2DDDD415C  2017-01-01  08:09:04   20.0   0.0  0.0        24.12   \n",
       "\n",
       "   Humidity     lat      lon            Timestamp  \n",
       "0      83.0  23.741  120.755  1483257789000000000  \n",
       "1      83.0  23.741  120.755  1483257789000000000  \n",
       "2      83.0  23.741  120.755  1483257789000000000  \n",
       "3      82.0  23.741  120.755  1483258144000000000  \n",
       "4      82.0  23.741  120.755  1483258144000000000  "
      ]
     },
     "execution_count": 6,
     "metadata": {},
     "output_type": "execute_result"
    }
   ],
   "source": [
    "# \n",
    "TS_WEIGHT = 1000000000\n",
    "#data[\"Timestamp\"] = data[\"Date\"].astype(str) + \" \" + data[\"Time\"]\n",
    "data[\"Timestamp\"] =pd.to_datetime(data[\"Date\"].astype(str) + \" \" + data[\"Time\"], format='%Y-%m-%d %H:%M:%S').astype(np.int64) \n",
    "data[\"Timestamp\"] = data[ \"Timestamp\"] // TS_WEIGHT\n",
    "#\"2017-01-01 08:03:09\" => 1483257789.0\n",
    "#\"2017-01-01 08:09:04\" => 1483258144.0\n",
    "data.head()"
   ]
  },
  {
   "cell_type": "code",
   "execution_count": 7,
   "metadata": {},
   "outputs": [
    {
     "data": {
      "text/plain": [
       "(1103807, 11)"
      ]
     },
     "execution_count": 7,
     "metadata": {},
     "output_type": "execute_result"
    }
   ],
   "source": [
    "\n",
    "\n",
    "#1.53438595694/0.13918\n",
    "def removeMissing(df):\n",
    "    df = df.drop(df[df[\"PM10\"]  == 0].index)\n",
    "    df = df.drop(df[df[\"PM1\"]  == 0].index)\n",
    "    return df\n",
    "    #data = addMissing(data)\n",
    "\n",
    "#PM10及PM1有缺值 經觀察\n",
    "#PM10約PM25 +3~4,#PM1約PM25-(6~7)\n",
    "#補完mse只有1.59 ，但..... test data沒有pm2可以抓... 更，只能塞mse\n",
    "def addMissing(df):\n",
    "    df.loc[df[\"PM10\"]  == 0 ,\"PM10\" ]  = df[\"PM2.5\"] + 3.5\n",
    "    df.loc[df[\"PM1\"]  == 0 ,\"PM1\" ]  = df[\"PM2.5\"] - 6.5\n",
    "    return df\n",
    "def addMissingMse(df):\n",
    "    df.loc[df[\"PM10\"]  == 0 ,\"PM10\" ]  = PM25_MSE + 3.5\n",
    "    df.loc[df[\"PM1\"]  == 0 ,\"PM1\" ]  = PM25_MSE - 6.5\n",
    "    return df\n",
    "def addMissingMse2(df):\n",
    "    for i, row in df.iterrows():\n",
    "        if row[\"PM10\"]  == 0:\n",
    "            df.at[i,'PM10'] = gPM25[row[\"device_id\"]][0] + 3.5\n",
    "        if row[\"PM1\"]  == 0:\n",
    "            df.at[i,'PM1'] = gPM25[row[\"device_id\"]][0] - 6.5\n",
    "    return df  \n",
    "\n",
    "data = removeMissing(data)\n",
    "data.head()\n",
    "data.shape"
   ]
  },
  {
   "cell_type": "markdown",
   "metadata": {},
   "source": [
    "# X,y\n"
   ]
  },
  {
   "cell_type": "code",
   "execution_count": 8,
   "metadata": {},
   "outputs": [
    {
     "data": {
      "text/html": [
       "<div>\n",
       "<table border=\"1\" class=\"dataframe\">\n",
       "  <thead>\n",
       "    <tr style=\"text-align: right;\">\n",
       "      <th></th>\n",
       "      <th>PM10</th>\n",
       "      <th>PM1</th>\n",
       "      <th>Temperature</th>\n",
       "      <th>Humidity</th>\n",
       "      <th>lat</th>\n",
       "      <th>lon</th>\n",
       "      <th>Timestamp</th>\n",
       "    </tr>\n",
       "  </thead>\n",
       "  <tbody>\n",
       "    <tr>\n",
       "      <th>10961</th>\n",
       "      <td>61.0</td>\n",
       "      <td>34.0</td>\n",
       "      <td>22.62</td>\n",
       "      <td>81.0</td>\n",
       "      <td>24.149</td>\n",
       "      <td>120.681</td>\n",
       "      <td>1483257897000000000</td>\n",
       "    </tr>\n",
       "    <tr>\n",
       "      <th>10962</th>\n",
       "      <td>61.0</td>\n",
       "      <td>34.0</td>\n",
       "      <td>22.62</td>\n",
       "      <td>81.0</td>\n",
       "      <td>24.149</td>\n",
       "      <td>120.681</td>\n",
       "      <td>1483257897000000000</td>\n",
       "    </tr>\n",
       "    <tr>\n",
       "      <th>10963</th>\n",
       "      <td>61.0</td>\n",
       "      <td>34.0</td>\n",
       "      <td>22.62</td>\n",
       "      <td>81.0</td>\n",
       "      <td>24.149</td>\n",
       "      <td>120.681</td>\n",
       "      <td>1483257897000000000</td>\n",
       "    </tr>\n",
       "    <tr>\n",
       "      <th>10964</th>\n",
       "      <td>62.0</td>\n",
       "      <td>35.0</td>\n",
       "      <td>22.75</td>\n",
       "      <td>81.0</td>\n",
       "      <td>24.149</td>\n",
       "      <td>120.681</td>\n",
       "      <td>1483258252000000000</td>\n",
       "    </tr>\n",
       "    <tr>\n",
       "      <th>10965</th>\n",
       "      <td>62.0</td>\n",
       "      <td>35.0</td>\n",
       "      <td>22.75</td>\n",
       "      <td>81.0</td>\n",
       "      <td>24.149</td>\n",
       "      <td>120.681</td>\n",
       "      <td>1483258252000000000</td>\n",
       "    </tr>\n",
       "  </tbody>\n",
       "</table>\n",
       "</div>"
      ],
      "text/plain": [
       "       PM10   PM1  Temperature  Humidity     lat      lon            Timestamp\n",
       "10961  61.0  34.0        22.62      81.0  24.149  120.681  1483257897000000000\n",
       "10962  61.0  34.0        22.62      81.0  24.149  120.681  1483257897000000000\n",
       "10963  61.0  34.0        22.62      81.0  24.149  120.681  1483257897000000000\n",
       "10964  62.0  35.0        22.75      81.0  24.149  120.681  1483258252000000000\n",
       "10965  62.0  35.0        22.75      81.0  24.149  120.681  1483258252000000000"
      ]
     },
     "execution_count": 8,
     "metadata": {},
     "output_type": "execute_result"
    }
   ],
   "source": [
    "\n",
    "X = data.drop(['device_id','Date','Time','PM2.5'],axis=1)\n",
    "X.head()"
   ]
  },
  {
   "cell_type": "code",
   "execution_count": 9,
   "metadata": {},
   "outputs": [
    {
     "data": {
      "text/plain": [
       "(1103807,)"
      ]
     },
     "execution_count": 9,
     "metadata": {},
     "output_type": "execute_result"
    }
   ],
   "source": [
    "y = data[\"PM2.5\"].as_matrix()\n",
    "y.shape"
   ]
  },
  {
   "cell_type": "markdown",
   "metadata": {},
   "source": [
    "# model"
   ]
  },
  {
   "cell_type": "code",
   "execution_count": null,
   "metadata": {},
   "outputs": [],
   "source": []
  },
  {
   "cell_type": "code",
   "execution_count": null,
   "metadata": {},
   "outputs": [],
   "source": [
    "from sklearn import linear_model\n",
    "\n",
    "linear = linear_model.LinearRegression(normalize=True) #Score: 0.994944403792355 MSE: 1.5351809358318766\n",
    "\n",
    "ard = linear_model.ARDRegression()\n",
    "\n",
    "alpha =  0.4\n",
    "\n",
    "ridge = linear_model.Ridge(alpha = alpha, normalize=True) # Score: 0.9949444037920316 MSE: 1.535180935930128 (alpha =  1e-6)\n",
    "\n",
    "#lasso\n",
    "lasso = linear_model.Lasso(alpha = alpha, normalize=True) #Score: 0.9948977875106408 MSE: 1.5493364229491262\n",
    "lars = linear_model.LassoLars() #305\n",
    "#linear_model.LarsCV() #255.522\n",
    "\n",
    "reg = ridge\n",
    "\n",
    "reg.fit (X,y)"
   ]
  },
  {
   "cell_type": "code",
   "execution_count": 42,
   "metadata": {},
   "outputs": [
    {
     "name": "stdout",
     "output_type": "stream",
     "text": [
      "[ 0.37051072  0.76106527  0.          0.          0.12393253  0.          0.        ]\n",
      "Score: 0.9949338636966596 MSE: 1.5383815383541564\n"
     ]
    }
   ],
   "source": [
    "y_pred = reg.predict(X)\n",
    "mse = mean_squared_error(y_pred,y)\n",
    "print (reg.coef_)\n",
    "print(\"Score: {} MSE: {}\".format(reg.score(X,y),mse))"
   ]
  },
  {
   "cell_type": "markdown",
   "metadata": {},
   "source": [
    "# predict"
   ]
  },
  {
   "cell_type": "markdown",
   "metadata": {},
   "source": [
    "## get test data"
   ]
  },
  {
   "cell_type": "code",
   "execution_count": 12,
   "metadata": {},
   "outputs": [
    {
     "data": {
      "text/html": [
       "<div>\n",
       "<table border=\"1\" class=\"dataframe\">\n",
       "  <thead>\n",
       "    <tr style=\"text-align: right;\">\n",
       "      <th></th>\n",
       "      <th>device_id</th>\n",
       "      <th>Date</th>\n",
       "      <th>Time</th>\n",
       "      <th>PM10</th>\n",
       "      <th>PM1</th>\n",
       "      <th>Temperature</th>\n",
       "      <th>Humidity</th>\n",
       "      <th>lat</th>\n",
       "      <th>lon</th>\n",
       "      <th>Timestamp</th>\n",
       "    </tr>\n",
       "  </thead>\n",
       "  <tbody>\n",
       "    <tr>\n",
       "      <th>0</th>\n",
       "      <td>28C2DDDD415C</td>\n",
       "      <td>2017-01-31</td>\n",
       "      <td>00:04:05</td>\n",
       "      <td>0.0</td>\n",
       "      <td>0.0</td>\n",
       "      <td>18.62</td>\n",
       "      <td>92.0</td>\n",
       "      <td>23.741</td>\n",
       "      <td>120.755</td>\n",
       "      <td>1485821045000000000</td>\n",
       "    </tr>\n",
       "    <tr>\n",
       "      <th>1</th>\n",
       "      <td>28C2DDDD415C</td>\n",
       "      <td>2017-01-31</td>\n",
       "      <td>00:10:01</td>\n",
       "      <td>0.0</td>\n",
       "      <td>0.0</td>\n",
       "      <td>18.75</td>\n",
       "      <td>92.0</td>\n",
       "      <td>23.741</td>\n",
       "      <td>120.755</td>\n",
       "      <td>1485821401000000000</td>\n",
       "    </tr>\n",
       "    <tr>\n",
       "      <th>2</th>\n",
       "      <td>28C2DDDD415C</td>\n",
       "      <td>2017-01-31</td>\n",
       "      <td>00:15:57</td>\n",
       "      <td>0.0</td>\n",
       "      <td>0.0</td>\n",
       "      <td>18.62</td>\n",
       "      <td>92.0</td>\n",
       "      <td>23.741</td>\n",
       "      <td>120.755</td>\n",
       "      <td>1485821757000000000</td>\n",
       "    </tr>\n",
       "    <tr>\n",
       "      <th>3</th>\n",
       "      <td>28C2DDDD415C</td>\n",
       "      <td>2017-01-31</td>\n",
       "      <td>00:21:53</td>\n",
       "      <td>0.0</td>\n",
       "      <td>0.0</td>\n",
       "      <td>18.62</td>\n",
       "      <td>92.0</td>\n",
       "      <td>23.741</td>\n",
       "      <td>120.755</td>\n",
       "      <td>1485822113000000000</td>\n",
       "    </tr>\n",
       "    <tr>\n",
       "      <th>4</th>\n",
       "      <td>28C2DDDD415C</td>\n",
       "      <td>2017-01-31</td>\n",
       "      <td>00:27:48</td>\n",
       "      <td>0.0</td>\n",
       "      <td>0.0</td>\n",
       "      <td>18.62</td>\n",
       "      <td>92.0</td>\n",
       "      <td>23.741</td>\n",
       "      <td>120.755</td>\n",
       "      <td>1485822468000000000</td>\n",
       "    </tr>\n",
       "  </tbody>\n",
       "</table>\n",
       "</div>"
      ],
      "text/plain": [
       "      device_id        Date      Time  PM10  PM1  Temperature  Humidity  \\\n",
       "0  28C2DDDD415C  2017-01-31  00:04:05   0.0  0.0        18.62      92.0   \n",
       "1  28C2DDDD415C  2017-01-31  00:10:01   0.0  0.0        18.75      92.0   \n",
       "2  28C2DDDD415C  2017-01-31  00:15:57   0.0  0.0        18.62      92.0   \n",
       "3  28C2DDDD415C  2017-01-31  00:21:53   0.0  0.0        18.62      92.0   \n",
       "4  28C2DDDD415C  2017-01-31  00:27:48   0.0  0.0        18.62      92.0   \n",
       "\n",
       "      lat      lon            Timestamp  \n",
       "0  23.741  120.755  1485821045000000000  \n",
       "1  23.741  120.755  1485821401000000000  \n",
       "2  23.741  120.755  1485821757000000000  \n",
       "3  23.741  120.755  1485822113000000000  \n",
       "4  23.741  120.755  1485822468000000000  "
      ]
     },
     "execution_count": 12,
     "metadata": {},
     "output_type": "execute_result"
    }
   ],
   "source": [
    "test_data = pd.read_csv(\"PM25_test.csv\")\n",
    "test_data[\"Timestamp\"] =pd.to_datetime(test_data[\"Date\"].astype(str) + \" \" + test_data[\"Time\"], format='%Y-%m-%d %H:%M:%S').astype(np.int64) \n",
    "test_data[\"Timestamp\"] = test_data[ \"Timestamp\"] // TS_WEIGHT \n",
    "\n",
    "\n",
    "test_x = test_data\n",
    "test_x.head()"
   ]
  },
  {
   "cell_type": "code",
   "execution_count": 13,
   "metadata": {},
   "outputs": [
    {
     "data": {
      "text/html": [
       "<div>\n",
       "<table border=\"1\" class=\"dataframe\">\n",
       "  <thead>\n",
       "    <tr style=\"text-align: right;\">\n",
       "      <th></th>\n",
       "      <th>PM10</th>\n",
       "      <th>PM1</th>\n",
       "      <th>Temperature</th>\n",
       "      <th>Humidity</th>\n",
       "      <th>lat</th>\n",
       "      <th>lon</th>\n",
       "      <th>Timestamp</th>\n",
       "    </tr>\n",
       "  </thead>\n",
       "  <tbody>\n",
       "    <tr>\n",
       "      <th>0</th>\n",
       "      <td>0.0</td>\n",
       "      <td>0.0</td>\n",
       "      <td>18.62</td>\n",
       "      <td>92.0</td>\n",
       "      <td>23.741</td>\n",
       "      <td>120.755</td>\n",
       "      <td>1485821045000000000</td>\n",
       "    </tr>\n",
       "    <tr>\n",
       "      <th>1</th>\n",
       "      <td>0.0</td>\n",
       "      <td>0.0</td>\n",
       "      <td>18.75</td>\n",
       "      <td>92.0</td>\n",
       "      <td>23.741</td>\n",
       "      <td>120.755</td>\n",
       "      <td>1485821401000000000</td>\n",
       "    </tr>\n",
       "    <tr>\n",
       "      <th>2</th>\n",
       "      <td>0.0</td>\n",
       "      <td>0.0</td>\n",
       "      <td>18.62</td>\n",
       "      <td>92.0</td>\n",
       "      <td>23.741</td>\n",
       "      <td>120.755</td>\n",
       "      <td>1485821757000000000</td>\n",
       "    </tr>\n",
       "    <tr>\n",
       "      <th>3</th>\n",
       "      <td>0.0</td>\n",
       "      <td>0.0</td>\n",
       "      <td>18.62</td>\n",
       "      <td>92.0</td>\n",
       "      <td>23.741</td>\n",
       "      <td>120.755</td>\n",
       "      <td>1485822113000000000</td>\n",
       "    </tr>\n",
       "    <tr>\n",
       "      <th>4</th>\n",
       "      <td>0.0</td>\n",
       "      <td>0.0</td>\n",
       "      <td>18.62</td>\n",
       "      <td>92.0</td>\n",
       "      <td>23.741</td>\n",
       "      <td>120.755</td>\n",
       "      <td>1485822468000000000</td>\n",
       "    </tr>\n",
       "  </tbody>\n",
       "</table>\n",
       "</div>"
      ],
      "text/plain": [
       "   PM10  PM1  Temperature  Humidity     lat      lon            Timestamp\n",
       "0   0.0  0.0        18.62      92.0  23.741  120.755  1485821045000000000\n",
       "1   0.0  0.0        18.75      92.0  23.741  120.755  1485821401000000000\n",
       "2   0.0  0.0        18.62      92.0  23.741  120.755  1485821757000000000\n",
       "3   0.0  0.0        18.62      92.0  23.741  120.755  1485822113000000000\n",
       "4   0.0  0.0        18.62      92.0  23.741  120.755  1485822468000000000"
      ]
     },
     "execution_count": 13,
     "metadata": {},
     "output_type": "execute_result"
    }
   ],
   "source": [
    "# add missing data\n",
    "#test_x = addMissingMse2(test_x)\n",
    "test_x = test_x.drop(['device_id','Date','Time'],axis=1)\n",
    "test_x.head()"
   ]
  },
  {
   "cell_type": "code",
   "execution_count": 14,
   "metadata": {},
   "outputs": [
    {
     "data": {
      "text/plain": [
       "array([ -0.14973791,  -0.14970995,  -0.14972908, ...,  11.11879277,\n",
       "         8.85162871,   9.61147389])"
      ]
     },
     "execution_count": 14,
     "metadata": {},
     "output_type": "execute_result"
    }
   ],
   "source": [
    "#predict\n",
    "pre = reg.predict(test_x.values)\n",
    "pre"
   ]
  },
  {
   "cell_type": "code",
   "execution_count": 15,
   "metadata": {},
   "outputs": [
    {
     "name": "stderr",
     "output_type": "stream",
     "text": [
      "/opt/conda/lib/python3.6/site-packages/ipykernel_launcher.py:2: SettingWithCopyWarning: \n",
      "A value is trying to be set on a copy of a slice from a DataFrame.\n",
      "Try using .loc[row_indexer,col_indexer] = value instead\n",
      "\n",
      "See the caveats in the documentation: http://pandas.pydata.org/pandas-docs/stable/indexing.html#indexing-view-versus-copy\n",
      "  \n"
     ]
    },
    {
     "data": {
      "text/html": [
       "<div>\n",
       "<table border=\"1\" class=\"dataframe\">\n",
       "  <thead>\n",
       "    <tr style=\"text-align: right;\">\n",
       "      <th></th>\n",
       "      <th>device_id</th>\n",
       "      <th>pred_pm25</th>\n",
       "    </tr>\n",
       "  </thead>\n",
       "  <tbody>\n",
       "    <tr>\n",
       "      <th>0</th>\n",
       "      <td>28C2DDDD415C</td>\n",
       "      <td>-0.149738</td>\n",
       "    </tr>\n",
       "    <tr>\n",
       "      <th>1</th>\n",
       "      <td>28C2DDDD415C</td>\n",
       "      <td>-0.149710</td>\n",
       "    </tr>\n",
       "    <tr>\n",
       "      <th>2</th>\n",
       "      <td>28C2DDDD415C</td>\n",
       "      <td>-0.149729</td>\n",
       "    </tr>\n",
       "    <tr>\n",
       "      <th>3</th>\n",
       "      <td>28C2DDDD415C</td>\n",
       "      <td>-0.149725</td>\n",
       "    </tr>\n",
       "    <tr>\n",
       "      <th>4</th>\n",
       "      <td>28C2DDDD415C</td>\n",
       "      <td>-0.149720</td>\n",
       "    </tr>\n",
       "  </tbody>\n",
       "</table>\n",
       "</div>"
      ],
      "text/plain": [
       "      device_id  pred_pm25\n",
       "0  28C2DDDD415C  -0.149738\n",
       "1  28C2DDDD415C  -0.149710\n",
       "2  28C2DDDD415C  -0.149729\n",
       "3  28C2DDDD415C  -0.149725\n",
       "4  28C2DDDD415C  -0.149720"
      ]
     },
     "execution_count": 15,
     "metadata": {},
     "output_type": "execute_result"
    }
   ],
   "source": [
    "result = test_data[[\"device_id\"]]\n",
    "result[\"pred_pm25\"] = pre\n",
    "result.head()"
   ]
  },
  {
   "cell_type": "code",
   "execution_count": 16,
   "metadata": {},
   "outputs": [
    {
     "data": {
      "text/html": [
       "<div>\n",
       "<table border=\"1\" class=\"dataframe\">\n",
       "  <thead>\n",
       "    <tr style=\"text-align: right;\">\n",
       "      <th></th>\n",
       "      <th>device_id</th>\n",
       "      <th>pred_pm25</th>\n",
       "    </tr>\n",
       "  </thead>\n",
       "  <tbody>\n",
       "    <tr>\n",
       "      <th>0</th>\n",
       "      <td>28C2DDDD415C</td>\n",
       "      <td>-0.145233</td>\n",
       "    </tr>\n",
       "    <tr>\n",
       "      <th>1</th>\n",
       "      <td>28C2DDDD47BC</td>\n",
       "      <td>0.123882</td>\n",
       "    </tr>\n",
       "    <tr>\n",
       "      <th>2</th>\n",
       "      <td>74DA3895C1F8</td>\n",
       "      <td>16.458390</td>\n",
       "    </tr>\n",
       "    <tr>\n",
       "      <th>3</th>\n",
       "      <td>74DA3895C1FA</td>\n",
       "      <td>14.172682</td>\n",
       "    </tr>\n",
       "    <tr>\n",
       "      <th>4</th>\n",
       "      <td>74DA3895C200</td>\n",
       "      <td>15.366921</td>\n",
       "    </tr>\n",
       "  </tbody>\n",
       "</table>\n",
       "</div>"
      ],
      "text/plain": [
       "      device_id  pred_pm25\n",
       "0  28C2DDDD415C  -0.145233\n",
       "1  28C2DDDD47BC   0.123882\n",
       "2  74DA3895C1F8  16.458390\n",
       "3  74DA3895C1FA  14.172682\n",
       "4  74DA3895C200  15.366921"
      ]
     },
     "execution_count": 16,
     "metadata": {},
     "output_type": "execute_result"
    }
   ],
   "source": [
    "#unique device id\n",
    "\n",
    "pd_mean_pm25 = result.groupby(['device_id'])['pred_pm25'].mean().reset_index()\n",
    "pd_mean_pm25.head()"
   ]
  },
  {
   "cell_type": "code",
   "execution_count": 17,
   "metadata": {},
   "outputs": [],
   "source": [
    "#np.savetxt(, result.tolist(), delimiter = ',')\n",
    "pd_mean_pm25.to_csv('l1-sumbmission.csv', index  = False)"
   ]
  }
 ],
 "metadata": {
  "kernelspec": {
   "display_name": "Python 3",
   "language": "python",
   "name": "python3"
  },
  "language_info": {
   "codemirror_mode": {
    "name": "ipython",
    "version": 3
   },
   "file_extension": ".py",
   "mimetype": "text/x-python",
   "name": "python",
   "nbconvert_exporter": "python",
   "pygments_lexer": "ipython3",
   "version": "3.6.3"
  }
 },
 "nbformat": 4,
 "nbformat_minor": 2
}
