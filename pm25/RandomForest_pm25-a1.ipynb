{
 "cells": [
  {
   "cell_type": "code",
   "execution_count": 1,
   "metadata": {
    "collapsed": false,
    "deletable": true,
    "editable": true
   },
   "outputs": [
    {
     "name": "stdout",
     "output_type": "stream",
     "text": [
      "Populating the interactive namespace from numpy and matplotlib\n"
     ]
    }
   ],
   "source": [
    "from numpy import loadtxt\n",
    "from sklearn.model_selection import train_test_split\n",
    "from sklearn.metrics import accuracy_score\n",
    "from sklearn.metrics import mean_absolute_error\n",
    "from sklearn.ensemble import RandomForestRegressor\n",
    "from sklearn.preprocessing import Imputer\n",
    "from sklearn import preprocessing\n",
    "import pandas as pd\n",
    "import numpy as np\n",
    "from tqdm import tqdm\n",
    "import matplotlib.pyplot as plt\n",
    "% pylab inline\n"
   ]
  },
  {
   "cell_type": "code",
   "execution_count": 2,
   "metadata": {},
   "outputs": [],
   "source": [
    "import datetime as dt\n",
    "import os\n",
    "data_src = '//data/examples/pm25/'"
   ]
  },
  {
   "cell_type": "code",
   "execution_count": 3,
   "metadata": {},
   "outputs": [],
   "source": [
    "train_df=pd.read_csv(data_src+'PM25_train.csv')"
   ]
  },
  {
   "cell_type": "code",
   "execution_count": 4,
   "metadata": {},
   "outputs": [
    {
     "name": "stdout",
     "output_type": "stream",
     "text": [
      "<class 'pandas.core.frame.DataFrame'>\n",
      "RangeIndex: 1116554 entries, 0 to 1116553\n",
      "Data columns (total 10 columns):\n",
      "device_id      1116554 non-null object\n",
      "Date           1116554 non-null object\n",
      "Time           1116554 non-null object\n",
      "PM2.5          1116554 non-null float64\n",
      "PM10           1116554 non-null float64\n",
      "PM1            1116554 non-null float64\n",
      "Temperature    1116554 non-null float64\n",
      "Humidity       1116554 non-null float64\n",
      "lat            1116554 non-null float64\n",
      "lon            1116554 non-null float64\n",
      "dtypes: float64(7), object(3)\n",
      "memory usage: 85.2+ MB\n"
     ]
    }
   ],
   "source": [
    "train_df.info()"
   ]
  },
  {
   "cell_type": "markdown",
   "metadata": {},
   "source": [
    "train_df.head(2000)"
   ]
  },
  {
   "cell_type": "markdown",
   "metadata": {},
   "source": [
    "train_df.tail(10)"
   ]
  },
  {
   "cell_type": "markdown",
   "metadata": {},
   "source": [
    "#convert the date into numerical value"
   ]
  },
  {
   "cell_type": "code",
   "execution_count": 5,
   "metadata": {},
   "outputs": [],
   "source": [
    "train_df['Date'] = pd.to_datetime(train_df['Date'])\n",
    "train_df['Date']=train_df['Date'].map(dt.datetime.toordinal)"
   ]
  },
  {
   "cell_type": "code",
   "execution_count": 6,
   "metadata": {},
   "outputs": [
    {
     "data": {
      "text/html": [
       "<div>\n",
       "<table border=\"1\" class=\"dataframe\">\n",
       "  <thead>\n",
       "    <tr style=\"text-align: right;\">\n",
       "      <th></th>\n",
       "      <th>device_id</th>\n",
       "      <th>Date</th>\n",
       "      <th>Time</th>\n",
       "      <th>PM2.5</th>\n",
       "      <th>PM10</th>\n",
       "      <th>PM1</th>\n",
       "      <th>Temperature</th>\n",
       "      <th>Humidity</th>\n",
       "      <th>lat</th>\n",
       "      <th>lon</th>\n",
       "    </tr>\n",
       "  </thead>\n",
       "  <tbody>\n",
       "    <tr>\n",
       "      <th>0</th>\n",
       "      <td>28C2DDDD415C</td>\n",
       "      <td>736330</td>\n",
       "      <td>08:03:09</td>\n",
       "      <td>21.0</td>\n",
       "      <td>0.0</td>\n",
       "      <td>0.0</td>\n",
       "      <td>24.12</td>\n",
       "      <td>83.0</td>\n",
       "      <td>23.741</td>\n",
       "      <td>120.755</td>\n",
       "    </tr>\n",
       "    <tr>\n",
       "      <th>1</th>\n",
       "      <td>28C2DDDD415C</td>\n",
       "      <td>736330</td>\n",
       "      <td>08:03:09</td>\n",
       "      <td>21.0</td>\n",
       "      <td>0.0</td>\n",
       "      <td>0.0</td>\n",
       "      <td>24.12</td>\n",
       "      <td>83.0</td>\n",
       "      <td>23.741</td>\n",
       "      <td>120.755</td>\n",
       "    </tr>\n",
       "    <tr>\n",
       "      <th>2</th>\n",
       "      <td>28C2DDDD415C</td>\n",
       "      <td>736330</td>\n",
       "      <td>08:03:09</td>\n",
       "      <td>21.0</td>\n",
       "      <td>0.0</td>\n",
       "      <td>0.0</td>\n",
       "      <td>24.12</td>\n",
       "      <td>83.0</td>\n",
       "      <td>23.741</td>\n",
       "      <td>120.755</td>\n",
       "    </tr>\n",
       "    <tr>\n",
       "      <th>3</th>\n",
       "      <td>28C2DDDD415C</td>\n",
       "      <td>736330</td>\n",
       "      <td>08:09:04</td>\n",
       "      <td>20.0</td>\n",
       "      <td>0.0</td>\n",
       "      <td>0.0</td>\n",
       "      <td>24.12</td>\n",
       "      <td>82.0</td>\n",
       "      <td>23.741</td>\n",
       "      <td>120.755</td>\n",
       "    </tr>\n",
       "    <tr>\n",
       "      <th>4</th>\n",
       "      <td>28C2DDDD415C</td>\n",
       "      <td>736330</td>\n",
       "      <td>08:09:04</td>\n",
       "      <td>20.0</td>\n",
       "      <td>0.0</td>\n",
       "      <td>0.0</td>\n",
       "      <td>24.12</td>\n",
       "      <td>82.0</td>\n",
       "      <td>23.741</td>\n",
       "      <td>120.755</td>\n",
       "    </tr>\n",
       "    <tr>\n",
       "      <th>5</th>\n",
       "      <td>28C2DDDD415C</td>\n",
       "      <td>736330</td>\n",
       "      <td>08:26:51</td>\n",
       "      <td>20.0</td>\n",
       "      <td>0.0</td>\n",
       "      <td>0.0</td>\n",
       "      <td>24.37</td>\n",
       "      <td>81.0</td>\n",
       "      <td>23.741</td>\n",
       "      <td>120.755</td>\n",
       "    </tr>\n",
       "    <tr>\n",
       "      <th>6</th>\n",
       "      <td>28C2DDDD415C</td>\n",
       "      <td>736330</td>\n",
       "      <td>08:26:51</td>\n",
       "      <td>20.0</td>\n",
       "      <td>0.0</td>\n",
       "      <td>0.0</td>\n",
       "      <td>24.37</td>\n",
       "      <td>81.0</td>\n",
       "      <td>23.741</td>\n",
       "      <td>120.755</td>\n",
       "    </tr>\n",
       "    <tr>\n",
       "      <th>7</th>\n",
       "      <td>28C2DDDD415C</td>\n",
       "      <td>736330</td>\n",
       "      <td>08:32:47</td>\n",
       "      <td>20.0</td>\n",
       "      <td>0.0</td>\n",
       "      <td>0.0</td>\n",
       "      <td>24.50</td>\n",
       "      <td>81.0</td>\n",
       "      <td>23.741</td>\n",
       "      <td>120.755</td>\n",
       "    </tr>\n",
       "    <tr>\n",
       "      <th>8</th>\n",
       "      <td>28C2DDDD415C</td>\n",
       "      <td>736330</td>\n",
       "      <td>08:32:47</td>\n",
       "      <td>20.0</td>\n",
       "      <td>0.0</td>\n",
       "      <td>0.0</td>\n",
       "      <td>24.50</td>\n",
       "      <td>81.0</td>\n",
       "      <td>23.741</td>\n",
       "      <td>120.755</td>\n",
       "    </tr>\n",
       "    <tr>\n",
       "      <th>9</th>\n",
       "      <td>28C2DDDD415C</td>\n",
       "      <td>736330</td>\n",
       "      <td>08:38:42</td>\n",
       "      <td>22.0</td>\n",
       "      <td>0.0</td>\n",
       "      <td>0.0</td>\n",
       "      <td>24.62</td>\n",
       "      <td>81.0</td>\n",
       "      <td>23.741</td>\n",
       "      <td>120.755</td>\n",
       "    </tr>\n",
       "  </tbody>\n",
       "</table>\n",
       "</div>"
      ],
      "text/plain": [
       "      device_id    Date      Time  PM2.5  PM10  PM1  Temperature  Humidity  \\\n",
       "0  28C2DDDD415C  736330  08:03:09   21.0   0.0  0.0        24.12      83.0   \n",
       "1  28C2DDDD415C  736330  08:03:09   21.0   0.0  0.0        24.12      83.0   \n",
       "2  28C2DDDD415C  736330  08:03:09   21.0   0.0  0.0        24.12      83.0   \n",
       "3  28C2DDDD415C  736330  08:09:04   20.0   0.0  0.0        24.12      82.0   \n",
       "4  28C2DDDD415C  736330  08:09:04   20.0   0.0  0.0        24.12      82.0   \n",
       "5  28C2DDDD415C  736330  08:26:51   20.0   0.0  0.0        24.37      81.0   \n",
       "6  28C2DDDD415C  736330  08:26:51   20.0   0.0  0.0        24.37      81.0   \n",
       "7  28C2DDDD415C  736330  08:32:47   20.0   0.0  0.0        24.50      81.0   \n",
       "8  28C2DDDD415C  736330  08:32:47   20.0   0.0  0.0        24.50      81.0   \n",
       "9  28C2DDDD415C  736330  08:38:42   22.0   0.0  0.0        24.62      81.0   \n",
       "\n",
       "      lat      lon  \n",
       "0  23.741  120.755  \n",
       "1  23.741  120.755  \n",
       "2  23.741  120.755  \n",
       "3  23.741  120.755  \n",
       "4  23.741  120.755  \n",
       "5  23.741  120.755  \n",
       "6  23.741  120.755  \n",
       "7  23.741  120.755  \n",
       "8  23.741  120.755  \n",
       "9  23.741  120.755  "
      ]
     },
     "execution_count": 6,
     "metadata": {},
     "output_type": "execute_result"
    }
   ],
   "source": [
    "train_df.head(10)"
   ]
  },
  {
   "cell_type": "code",
   "execution_count": 7,
   "metadata": {},
   "outputs": [
    {
     "data": {
      "text/html": [
       "<div>\n",
       "<table border=\"1\" class=\"dataframe\">\n",
       "  <thead>\n",
       "    <tr style=\"text-align: right;\">\n",
       "      <th></th>\n",
       "      <th>device_id</th>\n",
       "      <th>Date</th>\n",
       "      <th>Time</th>\n",
       "      <th>PM2.5</th>\n",
       "      <th>PM10</th>\n",
       "      <th>PM1</th>\n",
       "      <th>Temperature</th>\n",
       "      <th>Humidity</th>\n",
       "      <th>lat</th>\n",
       "      <th>lon</th>\n",
       "    </tr>\n",
       "  </thead>\n",
       "  <tbody>\n",
       "    <tr>\n",
       "      <th>1116544</th>\n",
       "      <td>74DA3895E0E2</td>\n",
       "      <td>736359</td>\n",
       "      <td>22:50:33</td>\n",
       "      <td>17.0</td>\n",
       "      <td>18.0</td>\n",
       "      <td>13.0</td>\n",
       "      <td>18.37</td>\n",
       "      <td>84.0</td>\n",
       "      <td>24.305</td>\n",
       "      <td>120.713</td>\n",
       "    </tr>\n",
       "    <tr>\n",
       "      <th>1116545</th>\n",
       "      <td>74DA3895E0E2</td>\n",
       "      <td>736359</td>\n",
       "      <td>22:56:43</td>\n",
       "      <td>15.0</td>\n",
       "      <td>18.0</td>\n",
       "      <td>11.0</td>\n",
       "      <td>18.25</td>\n",
       "      <td>84.0</td>\n",
       "      <td>24.305</td>\n",
       "      <td>120.713</td>\n",
       "    </tr>\n",
       "    <tr>\n",
       "      <th>1116546</th>\n",
       "      <td>74DA3895E0E2</td>\n",
       "      <td>736359</td>\n",
       "      <td>23:02:56</td>\n",
       "      <td>16.0</td>\n",
       "      <td>18.0</td>\n",
       "      <td>12.0</td>\n",
       "      <td>18.12</td>\n",
       "      <td>84.0</td>\n",
       "      <td>24.305</td>\n",
       "      <td>120.713</td>\n",
       "    </tr>\n",
       "    <tr>\n",
       "      <th>1116547</th>\n",
       "      <td>74DA3895E0E2</td>\n",
       "      <td>736359</td>\n",
       "      <td>23:15:34</td>\n",
       "      <td>22.0</td>\n",
       "      <td>24.0</td>\n",
       "      <td>16.0</td>\n",
       "      <td>18.37</td>\n",
       "      <td>84.0</td>\n",
       "      <td>24.305</td>\n",
       "      <td>120.713</td>\n",
       "    </tr>\n",
       "    <tr>\n",
       "      <th>1116548</th>\n",
       "      <td>74DA3895E0E2</td>\n",
       "      <td>736359</td>\n",
       "      <td>23:21:50</td>\n",
       "      <td>17.0</td>\n",
       "      <td>20.0</td>\n",
       "      <td>13.0</td>\n",
       "      <td>18.37</td>\n",
       "      <td>84.0</td>\n",
       "      <td>24.305</td>\n",
       "      <td>120.713</td>\n",
       "    </tr>\n",
       "    <tr>\n",
       "      <th>1116549</th>\n",
       "      <td>74DA3895E0E2</td>\n",
       "      <td>736359</td>\n",
       "      <td>23:28:14</td>\n",
       "      <td>17.0</td>\n",
       "      <td>19.0</td>\n",
       "      <td>13.0</td>\n",
       "      <td>18.12</td>\n",
       "      <td>84.0</td>\n",
       "      <td>24.305</td>\n",
       "      <td>120.713</td>\n",
       "    </tr>\n",
       "    <tr>\n",
       "      <th>1116550</th>\n",
       "      <td>74DA3895E0E2</td>\n",
       "      <td>736359</td>\n",
       "      <td>23:34:46</td>\n",
       "      <td>16.0</td>\n",
       "      <td>19.0</td>\n",
       "      <td>12.0</td>\n",
       "      <td>18.12</td>\n",
       "      <td>84.0</td>\n",
       "      <td>24.305</td>\n",
       "      <td>120.713</td>\n",
       "    </tr>\n",
       "    <tr>\n",
       "      <th>1116551</th>\n",
       "      <td>74DA3895E0E2</td>\n",
       "      <td>736359</td>\n",
       "      <td>23:41:07</td>\n",
       "      <td>16.0</td>\n",
       "      <td>18.0</td>\n",
       "      <td>12.0</td>\n",
       "      <td>18.37</td>\n",
       "      <td>83.0</td>\n",
       "      <td>24.305</td>\n",
       "      <td>120.713</td>\n",
       "    </tr>\n",
       "    <tr>\n",
       "      <th>1116552</th>\n",
       "      <td>74DA3895E0E2</td>\n",
       "      <td>736359</td>\n",
       "      <td>23:47:34</td>\n",
       "      <td>17.0</td>\n",
       "      <td>19.0</td>\n",
       "      <td>13.0</td>\n",
       "      <td>18.25</td>\n",
       "      <td>84.0</td>\n",
       "      <td>24.305</td>\n",
       "      <td>120.713</td>\n",
       "    </tr>\n",
       "    <tr>\n",
       "      <th>1116553</th>\n",
       "      <td>74DA3895E0E2</td>\n",
       "      <td>736359</td>\n",
       "      <td>23:54:04</td>\n",
       "      <td>15.0</td>\n",
       "      <td>17.0</td>\n",
       "      <td>11.0</td>\n",
       "      <td>18.25</td>\n",
       "      <td>84.0</td>\n",
       "      <td>24.305</td>\n",
       "      <td>120.713</td>\n",
       "    </tr>\n",
       "  </tbody>\n",
       "</table>\n",
       "</div>"
      ],
      "text/plain": [
       "            device_id    Date      Time  PM2.5  PM10   PM1  Temperature  \\\n",
       "1116544  74DA3895E0E2  736359  22:50:33   17.0  18.0  13.0        18.37   \n",
       "1116545  74DA3895E0E2  736359  22:56:43   15.0  18.0  11.0        18.25   \n",
       "1116546  74DA3895E0E2  736359  23:02:56   16.0  18.0  12.0        18.12   \n",
       "1116547  74DA3895E0E2  736359  23:15:34   22.0  24.0  16.0        18.37   \n",
       "1116548  74DA3895E0E2  736359  23:21:50   17.0  20.0  13.0        18.37   \n",
       "1116549  74DA3895E0E2  736359  23:28:14   17.0  19.0  13.0        18.12   \n",
       "1116550  74DA3895E0E2  736359  23:34:46   16.0  19.0  12.0        18.12   \n",
       "1116551  74DA3895E0E2  736359  23:41:07   16.0  18.0  12.0        18.37   \n",
       "1116552  74DA3895E0E2  736359  23:47:34   17.0  19.0  13.0        18.25   \n",
       "1116553  74DA3895E0E2  736359  23:54:04   15.0  17.0  11.0        18.25   \n",
       "\n",
       "         Humidity     lat      lon  \n",
       "1116544      84.0  24.305  120.713  \n",
       "1116545      84.0  24.305  120.713  \n",
       "1116546      84.0  24.305  120.713  \n",
       "1116547      84.0  24.305  120.713  \n",
       "1116548      84.0  24.305  120.713  \n",
       "1116549      84.0  24.305  120.713  \n",
       "1116550      84.0  24.305  120.713  \n",
       "1116551      83.0  24.305  120.713  \n",
       "1116552      84.0  24.305  120.713  \n",
       "1116553      84.0  24.305  120.713  "
      ]
     },
     "execution_count": 7,
     "metadata": {},
     "output_type": "execute_result"
    }
   ],
   "source": [
    "train_df.tail(10)"
   ]
  },
  {
   "cell_type": "markdown",
   "metadata": {},
   "source": [
    "train_df_d = train_df.groupby([train_df['device_id']])"
   ]
  },
  {
   "cell_type": "markdown",
   "metadata": {},
   "source": [
    "train_df_d.head()"
   ]
  },
  {
   "cell_type": "code",
   "execution_count": null,
   "metadata": {},
   "outputs": [],
   "source": []
  },
  {
   "cell_type": "code",
   "execution_count": 8,
   "metadata": {},
   "outputs": [
    {
     "name": "stdout",
     "output_type": "stream",
     "text": [
      "[]\n"
     ]
    }
   ],
   "source": [
    "#gets names of columns having missing values\n",
    "\n",
    "cols_missing_data = [col for col in train_df.columns if train_df[col].isnull().any()]\n",
    "print(cols_missing_data)"
   ]
  },
  {
   "cell_type": "code",
   "execution_count": null,
   "metadata": {},
   "outputs": [],
   "source": []
  },
  {
   "cell_type": "code",
   "execution_count": 9,
   "metadata": {},
   "outputs": [],
   "source": [
    "train_df_y=train_df['PM2.5']"
   ]
  },
  {
   "cell_type": "code",
   "execution_count": 10,
   "metadata": {},
   "outputs": [
    {
     "data": {
      "text/plain": [
       "0    21.0\n",
       "1    21.0\n",
       "2    21.0\n",
       "3    20.0\n",
       "4    20.0\n",
       "Name: PM2.5, dtype: float64"
      ]
     },
     "execution_count": 10,
     "metadata": {},
     "output_type": "execute_result"
    }
   ],
   "source": [
    "train_df_y.head()"
   ]
  },
  {
   "cell_type": "code",
   "execution_count": 11,
   "metadata": {},
   "outputs": [],
   "source": [
    "y=train_df_y.copy()"
   ]
  },
  {
   "cell_type": "code",
   "execution_count": 12,
   "metadata": {},
   "outputs": [
    {
     "data": {
      "text/plain": [
       "(1116554,)"
      ]
     },
     "execution_count": 12,
     "metadata": {},
     "output_type": "execute_result"
    }
   ],
   "source": [
    "y.shape"
   ]
  },
  {
   "cell_type": "markdown",
   "metadata": {},
   "source": [
    "y[100000]"
   ]
  },
  {
   "cell_type": "code",
   "execution_count": 13,
   "metadata": {},
   "outputs": [],
   "source": [
    "train_df['device_id']=pd.factorize(train_df['device_id'])[0]"
   ]
  },
  {
   "cell_type": "code",
   "execution_count": 14,
   "metadata": {},
   "outputs": [],
   "source": [
    "train_df.drop(['Time', 'PM2.5'], axis=1,inplace=True)"
   ]
  },
  {
   "cell_type": "markdown",
   "metadata": {},
   "source": [
    "train_df.head(30000)"
   ]
  },
  {
   "cell_type": "markdown",
   "metadata": {},
   "source": [
    "train_df.tail(20000)"
   ]
  },
  {
   "cell_type": "markdown",
   "metadata": {},
   "source": [
    "scale_age_fare = preprocessing.StandardScaler().fit(combined_train_test[['Age','Fare', 'Name_length']])"
   ]
  },
  {
   "cell_type": "code",
   "execution_count": 16,
   "metadata": {},
   "outputs": [
    {
     "name": "stdout",
     "output_type": "stream",
     "text": [
      "<class 'pandas.core.frame.DataFrame'>\n",
      "RangeIndex: 1116554 entries, 0 to 1116553\n",
      "Data columns (total 8 columns):\n",
      "device_id      1116554 non-null int64\n",
      "Date           1116554 non-null int64\n",
      "PM10           1116554 non-null float64\n",
      "PM1            1116554 non-null float64\n",
      "Temperature    1116554 non-null float64\n",
      "Humidity       1116554 non-null float64\n",
      "lat            1116554 non-null float64\n",
      "lon            1116554 non-null float64\n",
      "dtypes: float64(6), int64(2)\n",
      "memory usage: 68.1 MB\n"
     ]
    }
   ],
   "source": [
    "train_df.info()"
   ]
  },
  {
   "cell_type": "code",
   "execution_count": null,
   "metadata": {},
   "outputs": [],
   "source": []
  },
  {
   "cell_type": "code",
   "execution_count": 17,
   "metadata": {
    "collapsed": true,
    "deletable": true,
    "editable": true
   },
   "outputs": [
    {
     "name": "stdout",
     "output_type": "stream",
     "text": [
      "training set data dimension\n",
      "(1004898, 8)\n",
      "(1004898,)\n",
      "-----------\n",
      "training set: 1004898\n",
      "validation set: 111656\n"
     ]
    }
   ],
   "source": [
    "# split our data into train & test\n",
    "# train : test = 0.67 : 0.33\n",
    "X_train, X_test, y_train, y_test = train_test_split(train_df, y, random_state = 0, test_size = 0.10)\n",
    "\n",
    "print(\"training set data dimension\")\n",
    "print(X_train.shape)\n",
    "print(y_train.shape)\n",
    "print(\"-----------\")\n",
    "print(\"training set: %i\" % len(X_train))\n",
    "print(\"validation set: %i\" % len(X_test))"
   ]
  },
  {
   "cell_type": "code",
   "execution_count": 18,
   "metadata": {},
   "outputs": [],
   "source": [
    "#perform imputation\n",
    "imputed_X_train_plus = X_train.copy()\n",
    "imputed_X_test_plus = X_test.copy()\n",
    "\n",
    "my_imputer = Imputer()\n",
    "imputed_X_train_plus = my_imputer.fit_transform(imputed_X_train_plus)\n",
    "imputed_X_test_plus = my_imputer.transform(imputed_X_test_plus)"
   ]
  },
  {
   "cell_type": "code",
   "execution_count": null,
   "metadata": {},
   "outputs": [],
   "source": []
  },
  {
   "cell_type": "code",
   "execution_count": 19,
   "metadata": {},
   "outputs": [],
   "source": [
    "test_df=pd.read_csv(data_src+'PM25_test.csv')"
   ]
  },
  {
   "cell_type": "code",
   "execution_count": 20,
   "metadata": {},
   "outputs": [
    {
     "name": "stdout",
     "output_type": "stream",
     "text": [
      "<class 'pandas.core.frame.DataFrame'>\n",
      "RangeIndex: 41223 entries, 0 to 41222\n",
      "Data columns (total 9 columns):\n",
      "device_id      41223 non-null object\n",
      "Date           41223 non-null object\n",
      "Time           41223 non-null object\n",
      "PM10           41223 non-null float64\n",
      "PM1            41223 non-null float64\n",
      "Temperature    41223 non-null float64\n",
      "Humidity       41223 non-null float64\n",
      "lat            41223 non-null float64\n",
      "lon            41223 non-null float64\n",
      "dtypes: float64(6), object(3)\n",
      "memory usage: 2.8+ MB\n"
     ]
    }
   ],
   "source": [
    "test_df.info()"
   ]
  },
  {
   "cell_type": "markdown",
   "metadata": {},
   "source": [
    "test_df.head(250)"
   ]
  },
  {
   "cell_type": "code",
   "execution_count": 21,
   "metadata": {},
   "outputs": [],
   "source": [
    "test_df['Date'] = pd.to_datetime(test_df['Date'])\n",
    "test_df['Date']=test_df['Date'].map(dt.datetime.toordinal)"
   ]
  },
  {
   "cell_type": "code",
   "execution_count": 22,
   "metadata": {},
   "outputs": [],
   "source": [
    "test_df['device_id']=pd.factorize(test_df['device_id'])[0]"
   ]
  },
  {
   "cell_type": "code",
   "execution_count": 23,
   "metadata": {},
   "outputs": [],
   "source": [
    "test_df.drop(['Time'],axis=1,inplace=True)"
   ]
  },
  {
   "cell_type": "code",
   "execution_count": 24,
   "metadata": {},
   "outputs": [
    {
     "name": "stdout",
     "output_type": "stream",
     "text": [
      "<class 'pandas.core.frame.DataFrame'>\n",
      "RangeIndex: 41223 entries, 0 to 41222\n",
      "Data columns (total 8 columns):\n",
      "device_id      41223 non-null int64\n",
      "Date           41223 non-null int64\n",
      "PM10           41223 non-null float64\n",
      "PM1            41223 non-null float64\n",
      "Temperature    41223 non-null float64\n",
      "Humidity       41223 non-null float64\n",
      "lat            41223 non-null float64\n",
      "lon            41223 non-null float64\n",
      "dtypes: float64(6), int64(2)\n",
      "memory usage: 2.5 MB\n"
     ]
    }
   ],
   "source": [
    "test_df.info()"
   ]
  },
  {
   "cell_type": "code",
   "execution_count": 25,
   "metadata": {},
   "outputs": [],
   "source": [
    "test_X = test_df.copy()"
   ]
  },
  {
   "cell_type": "code",
   "execution_count": 26,
   "metadata": {},
   "outputs": [],
   "source": [
    "test_X = my_imputer.fit_transform(test_X)"
   ]
  },
  {
   "cell_type": "code",
   "execution_count": 27,
   "metadata": {},
   "outputs": [
    {
     "data": {
      "text/plain": [
       "RandomForestRegressor(bootstrap=True, criterion='mse', max_depth=None,\n",
       "           max_features='auto', max_leaf_nodes=None,\n",
       "           min_impurity_decrease=0.0, min_impurity_split=None,\n",
       "           min_samples_leaf=1, min_samples_split=2,\n",
       "           min_weight_fraction_leaf=0.0, n_estimators=10, n_jobs=1,\n",
       "           oob_score=False, random_state=None, verbose=0, warm_start=False)"
      ]
     },
     "execution_count": 27,
     "metadata": {},
     "output_type": "execute_result"
    }
   ],
   "source": [
    "model = RandomForestRegressor()\n",
    "model.fit(imputed_X_train_plus, y_train)\n"
   ]
  },
  {
   "cell_type": "code",
   "execution_count": 28,
   "metadata": {},
   "outputs": [
    {
     "data": {
      "text/plain": [
       "99.92"
      ]
     },
     "execution_count": 28,
     "metadata": {},
     "output_type": "execute_result"
    }
   ],
   "source": [
    "model.score(imputed_X_train_plus, y_train)\n",
    "acc_model = round(model.score(imputed_X_train_plus, y_train) * 100, 2)\n",
    "acc_model"
   ]
  },
  {
   "cell_type": "code",
   "execution_count": null,
   "metadata": {},
   "outputs": [],
   "source": []
  },
  {
   "cell_type": "code",
   "execution_count": 29,
   "metadata": {},
   "outputs": [],
   "source": [
    "Y_pred = model.predict(test_X)"
   ]
  },
  {
   "cell_type": "code",
   "execution_count": 30,
   "metadata": {},
   "outputs": [
    {
     "data": {
      "text/plain": [
       "(41223,)"
      ]
     },
     "execution_count": 30,
     "metadata": {},
     "output_type": "execute_result"
    }
   ],
   "source": [
    "Y_pred.shape"
   ]
  },
  {
   "cell_type": "code",
   "execution_count": 31,
   "metadata": {},
   "outputs": [],
   "source": [
    "test_df['PM2.5']=Y_pred"
   ]
  },
  {
   "cell_type": "code",
   "execution_count": 32,
   "metadata": {},
   "outputs": [
    {
     "name": "stdout",
     "output_type": "stream",
     "text": [
      "<class 'pandas.core.frame.DataFrame'>\n",
      "RangeIndex: 41223 entries, 0 to 41222\n",
      "Data columns (total 9 columns):\n",
      "device_id      41223 non-null int64\n",
      "Date           41223 non-null int64\n",
      "PM10           41223 non-null float64\n",
      "PM1            41223 non-null float64\n",
      "Temperature    41223 non-null float64\n",
      "Humidity       41223 non-null float64\n",
      "lat            41223 non-null float64\n",
      "lon            41223 non-null float64\n",
      "PM2.5          41223 non-null float64\n",
      "dtypes: float64(7), int64(2)\n",
      "memory usage: 2.8 MB\n"
     ]
    }
   ],
   "source": [
    "test_df.info()"
   ]
  },
  {
   "cell_type": "markdown",
   "metadata": {},
   "source": [
    "test_df_d2 = test_df.groupby([test_df['device_id']])"
   ]
  },
  {
   "cell_type": "markdown",
   "metadata": {},
   "source": [
    "test_df_d2.head()"
   ]
  },
  {
   "cell_type": "markdown",
   "metadata": {},
   "source": [
    "test_pm25 = test_df['PM2.5'].groupby([test_df['device_id']])"
   ]
  },
  {
   "cell_type": "markdown",
   "metadata": {},
   "source": [
    "test_pm25.groups"
   ]
  },
  {
   "cell_type": "code",
   "execution_count": null,
   "metadata": {},
   "outputs": [],
   "source": []
  },
  {
   "cell_type": "code",
   "execution_count": 33,
   "metadata": {},
   "outputs": [],
   "source": [
    "medians = test_df['PM2.5'].groupby([test_df['device_id']]).median()"
   ]
  },
  {
   "cell_type": "markdown",
   "metadata": {},
   "source": [
    "modes = test_df['PM2.5'].groupby([test_df['device_id']]).mode()"
   ]
  },
  {
   "cell_type": "code",
   "execution_count": 34,
   "metadata": {},
   "outputs": [],
   "source": [
    "means = test_df['PM2.5'].groupby([test_df['device_id']]).mean()"
   ]
  },
  {
   "cell_type": "markdown",
   "metadata": {},
   "source": [
    "medians"
   ]
  },
  {
   "cell_type": "markdown",
   "metadata": {},
   "source": [
    "means"
   ]
  },
  {
   "cell_type": "code",
   "execution_count": null,
   "metadata": {},
   "outputs": [],
   "source": []
  },
  {
   "cell_type": "code",
   "execution_count": 37,
   "metadata": {},
   "outputs": [],
   "source": [
    "submission=pd.read_csv(data_src+'submission.csv')"
   ]
  },
  {
   "cell_type": "code",
   "execution_count": 38,
   "metadata": {},
   "outputs": [
    {
     "name": "stdout",
     "output_type": "stream",
     "text": [
      "<class 'pandas.core.frame.DataFrame'>\n",
      "RangeIndex: 252 entries, 0 to 251\n",
      "Data columns (total 2 columns):\n",
      "device_id    252 non-null object\n",
      "pred_pm25    252 non-null int64\n",
      "dtypes: int64(1), object(1)\n",
      "memory usage: 4.0+ KB\n"
     ]
    }
   ],
   "source": [
    "submission.info()"
   ]
  },
  {
   "cell_type": "markdown",
   "metadata": {},
   "source": [
    "submission.tail(100)"
   ]
  },
  {
   "cell_type": "code",
   "execution_count": 39,
   "metadata": {},
   "outputs": [],
   "source": [
    "submission['pred_pm25']=means"
   ]
  },
  {
   "cell_type": "code",
   "execution_count": 40,
   "metadata": {},
   "outputs": [
    {
     "name": "stdout",
     "output_type": "stream",
     "text": [
      "<class 'pandas.core.frame.DataFrame'>\n",
      "RangeIndex: 252 entries, 0 to 251\n",
      "Data columns (total 2 columns):\n",
      "device_id    252 non-null object\n",
      "pred_pm25    252 non-null float64\n",
      "dtypes: float64(1), object(1)\n",
      "memory usage: 4.0+ KB\n"
     ]
    }
   ],
   "source": [
    "submission.info()"
   ]
  },
  {
   "cell_type": "code",
   "execution_count": 41,
   "metadata": {},
   "outputs": [
    {
     "data": {
      "text/html": [
       "<div>\n",
       "<table border=\"1\" class=\"dataframe\">\n",
       "  <thead>\n",
       "    <tr style=\"text-align: right;\">\n",
       "      <th></th>\n",
       "      <th>device_id</th>\n",
       "      <th>pred_pm25</th>\n",
       "    </tr>\n",
       "  </thead>\n",
       "  <tbody>\n",
       "    <tr>\n",
       "      <th>0</th>\n",
       "      <td>28C2DDDD415C</td>\n",
       "      <td>29.893448</td>\n",
       "    </tr>\n",
       "    <tr>\n",
       "      <th>1</th>\n",
       "      <td>28C2DDDD47BC</td>\n",
       "      <td>17.927864</td>\n",
       "    </tr>\n",
       "    <tr>\n",
       "      <th>2</th>\n",
       "      <td>74DA3895C1F8</td>\n",
       "      <td>16.229313</td>\n",
       "    </tr>\n",
       "    <tr>\n",
       "      <th>3</th>\n",
       "      <td>74DA3895C1FA</td>\n",
       "      <td>14.260456</td>\n",
       "    </tr>\n",
       "    <tr>\n",
       "      <th>4</th>\n",
       "      <td>74DA3895C200</td>\n",
       "      <td>15.524011</td>\n",
       "    </tr>\n",
       "  </tbody>\n",
       "</table>\n",
       "</div>"
      ],
      "text/plain": [
       "      device_id  pred_pm25\n",
       "0  28C2DDDD415C  29.893448\n",
       "1  28C2DDDD47BC  17.927864\n",
       "2  74DA3895C1F8  16.229313\n",
       "3  74DA3895C1FA  14.260456\n",
       "4  74DA3895C200  15.524011"
      ]
     },
     "execution_count": 41,
     "metadata": {},
     "output_type": "execute_result"
    }
   ],
   "source": [
    "submission.head()"
   ]
  },
  {
   "cell_type": "code",
   "execution_count": 42,
   "metadata": {},
   "outputs": [],
   "source": [
    "submission.to_csv('Submission_pm25_10.csv',index=False)"
   ]
  },
  {
   "cell_type": "code",
   "execution_count": null,
   "metadata": {
    "collapsed": true,
    "deletable": true,
    "editable": true
   },
   "outputs": [],
   "source": []
  }
 ],
 "metadata": {
  "kernelspec": {
   "display_name": "Python 3",
   "language": "python",
   "name": "python3"
  },
  "language_info": {
   "codemirror_mode": {
    "name": "ipython",
    "version": 3
   },
   "file_extension": ".py",
   "mimetype": "text/x-python",
   "name": "python",
   "nbconvert_exporter": "python",
   "pygments_lexer": "ipython3",
   "version": "3.6.3"
  }
 },
 "nbformat": 4,
 "nbformat_minor": 2
}
